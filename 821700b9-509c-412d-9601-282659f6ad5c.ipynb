{
 "cells": [
  {
   "cell_type": "code",
   "execution_count": 50,
   "id": "72576667",
   "metadata": {},
   "outputs": [],
   "source": [
    "import pandas as pd\n",
    "import matplotlib.pyplot as plt\n",
    "import numpy as np\n",
    "from scipy import stats as st"
   ]
  },
  {
   "cell_type": "markdown",
   "id": "c42cbe00",
   "metadata": {},
   "source": [
    "# Шаг 1. Загрузка данных"
   ]
  },
  {
   "cell_type": "code",
   "execution_count": 51,
   "id": "eff9f206",
   "metadata": {},
   "outputs": [
    {
     "data": {
      "text/html": [
       "<div>\n",
       "<style scoped>\n",
       "    .dataframe tbody tr th:only-of-type {\n",
       "        vertical-align: middle;\n",
       "    }\n",
       "\n",
       "    .dataframe tbody tr th {\n",
       "        vertical-align: top;\n",
       "    }\n",
       "\n",
       "    .dataframe thead th {\n",
       "        text-align: right;\n",
       "    }\n",
       "</style>\n",
       "<table border=\"1\" class=\"dataframe\">\n",
       "  <thead>\n",
       "    <tr style=\"text-align: right;\">\n",
       "      <th></th>\n",
       "      <th>user_id</th>\n",
       "      <th>name</th>\n",
       "      <th>age</th>\n",
       "      <th>city</th>\n",
       "      <th>subscription_type</th>\n",
       "    </tr>\n",
       "  </thead>\n",
       "  <tbody>\n",
       "    <tr>\n",
       "      <th>0</th>\n",
       "      <td>1</td>\n",
       "      <td>Кира</td>\n",
       "      <td>22</td>\n",
       "      <td>Тюмень</td>\n",
       "      <td>ultra</td>\n",
       "    </tr>\n",
       "    <tr>\n",
       "      <th>1</th>\n",
       "      <td>2</td>\n",
       "      <td>Станислав</td>\n",
       "      <td>31</td>\n",
       "      <td>Омск</td>\n",
       "      <td>ultra</td>\n",
       "    </tr>\n",
       "    <tr>\n",
       "      <th>2</th>\n",
       "      <td>3</td>\n",
       "      <td>Алексей</td>\n",
       "      <td>20</td>\n",
       "      <td>Москва</td>\n",
       "      <td>ultra</td>\n",
       "    </tr>\n",
       "    <tr>\n",
       "      <th>3</th>\n",
       "      <td>4</td>\n",
       "      <td>Константин</td>\n",
       "      <td>26</td>\n",
       "      <td>Ростов-на-Дону</td>\n",
       "      <td>ultra</td>\n",
       "    </tr>\n",
       "    <tr>\n",
       "      <th>4</th>\n",
       "      <td>5</td>\n",
       "      <td>Адель</td>\n",
       "      <td>28</td>\n",
       "      <td>Омск</td>\n",
       "      <td>ultra</td>\n",
       "    </tr>\n",
       "    <tr>\n",
       "      <th>5</th>\n",
       "      <td>6</td>\n",
       "      <td>Регина</td>\n",
       "      <td>25</td>\n",
       "      <td>Краснодар</td>\n",
       "      <td>ultra</td>\n",
       "    </tr>\n",
       "    <tr>\n",
       "      <th>6</th>\n",
       "      <td>7</td>\n",
       "      <td>Игорь</td>\n",
       "      <td>23</td>\n",
       "      <td>Омск</td>\n",
       "      <td>ultra</td>\n",
       "    </tr>\n",
       "    <tr>\n",
       "      <th>7</th>\n",
       "      <td>8</td>\n",
       "      <td>Юрий</td>\n",
       "      <td>23</td>\n",
       "      <td>Краснодар</td>\n",
       "      <td>ultra</td>\n",
       "    </tr>\n",
       "    <tr>\n",
       "      <th>8</th>\n",
       "      <td>9</td>\n",
       "      <td>Ян</td>\n",
       "      <td>21</td>\n",
       "      <td>Пятигорск</td>\n",
       "      <td>ultra</td>\n",
       "    </tr>\n",
       "    <tr>\n",
       "      <th>9</th>\n",
       "      <td>10</td>\n",
       "      <td>Валерий</td>\n",
       "      <td>18</td>\n",
       "      <td>Екатеринбург</td>\n",
       "      <td>ultra</td>\n",
       "    </tr>\n",
       "  </tbody>\n",
       "</table>\n",
       "</div>"
      ],
      "text/plain": [
       "   user_id        name  age            city subscription_type\n",
       "0        1        Кира   22          Тюмень             ultra\n",
       "1        2   Станислав   31            Омск             ultra\n",
       "2        3     Алексей   20          Москва             ultra\n",
       "3        4  Константин   26  Ростов-на-Дону             ultra\n",
       "4        5       Адель   28            Омск             ultra\n",
       "5        6      Регина   25       Краснодар             ultra\n",
       "6        7       Игорь   23            Омск             ultra\n",
       "7        8        Юрий   23       Краснодар             ultra\n",
       "8        9          Ян   21       Пятигорск             ultra\n",
       "9       10     Валерий   18    Екатеринбург             ultra"
      ]
     },
     "execution_count": 51,
     "metadata": {},
     "output_type": "execute_result"
    }
   ],
   "source": [
    "data1 = pd.read_csv('/datasets/users_go.csv')#Пользователи\n",
    "data1.head(10)"
   ]
  },
  {
   "cell_type": "code",
   "execution_count": 52,
   "id": "770001bf",
   "metadata": {},
   "outputs": [
    {
     "name": "stdout",
     "output_type": "stream",
     "text": [
      "<class 'pandas.core.frame.DataFrame'>\n",
      "RangeIndex: 1565 entries, 0 to 1564\n",
      "Data columns (total 5 columns):\n",
      " #   Column             Non-Null Count  Dtype \n",
      "---  ------             --------------  ----- \n",
      " 0   user_id            1565 non-null   int64 \n",
      " 1   name               1565 non-null   object\n",
      " 2   age                1565 non-null   int64 \n",
      " 3   city               1565 non-null   object\n",
      " 4   subscription_type  1565 non-null   object\n",
      "dtypes: int64(2), object(3)\n",
      "memory usage: 61.3+ KB\n"
     ]
    }
   ],
   "source": [
    "data1.info()"
   ]
  },
  {
   "cell_type": "code",
   "execution_count": 53,
   "id": "404127e1",
   "metadata": {},
   "outputs": [
    {
     "data": {
      "text/html": [
       "<div>\n",
       "<style scoped>\n",
       "    .dataframe tbody tr th:only-of-type {\n",
       "        vertical-align: middle;\n",
       "    }\n",
       "\n",
       "    .dataframe tbody tr th {\n",
       "        vertical-align: top;\n",
       "    }\n",
       "\n",
       "    .dataframe thead th {\n",
       "        text-align: right;\n",
       "    }\n",
       "</style>\n",
       "<table border=\"1\" class=\"dataframe\">\n",
       "  <thead>\n",
       "    <tr style=\"text-align: right;\">\n",
       "      <th></th>\n",
       "      <th>user_id</th>\n",
       "      <th>distance</th>\n",
       "      <th>duration</th>\n",
       "      <th>date</th>\n",
       "    </tr>\n",
       "  </thead>\n",
       "  <tbody>\n",
       "    <tr>\n",
       "      <th>0</th>\n",
       "      <td>1</td>\n",
       "      <td>4409.919140</td>\n",
       "      <td>25.599769</td>\n",
       "      <td>2021-01-01</td>\n",
       "    </tr>\n",
       "    <tr>\n",
       "      <th>1</th>\n",
       "      <td>1</td>\n",
       "      <td>2617.592153</td>\n",
       "      <td>15.816871</td>\n",
       "      <td>2021-01-18</td>\n",
       "    </tr>\n",
       "    <tr>\n",
       "      <th>2</th>\n",
       "      <td>1</td>\n",
       "      <td>754.159807</td>\n",
       "      <td>6.232113</td>\n",
       "      <td>2021-04-20</td>\n",
       "    </tr>\n",
       "    <tr>\n",
       "      <th>3</th>\n",
       "      <td>1</td>\n",
       "      <td>2694.783254</td>\n",
       "      <td>18.511000</td>\n",
       "      <td>2021-08-11</td>\n",
       "    </tr>\n",
       "    <tr>\n",
       "      <th>4</th>\n",
       "      <td>1</td>\n",
       "      <td>4028.687306</td>\n",
       "      <td>26.265803</td>\n",
       "      <td>2021-08-28</td>\n",
       "    </tr>\n",
       "  </tbody>\n",
       "</table>\n",
       "</div>"
      ],
      "text/plain": [
       "   user_id     distance   duration        date\n",
       "0        1  4409.919140  25.599769  2021-01-01\n",
       "1        1  2617.592153  15.816871  2021-01-18\n",
       "2        1   754.159807   6.232113  2021-04-20\n",
       "3        1  2694.783254  18.511000  2021-08-11\n",
       "4        1  4028.687306  26.265803  2021-08-28"
      ]
     },
     "execution_count": 53,
     "metadata": {},
     "output_type": "execute_result"
    }
   ],
   "source": [
    "data2 = pd.read_csv('/datasets/rides_go.csv')#Поездки\n",
    "data2.head()"
   ]
  },
  {
   "cell_type": "code",
   "execution_count": 54,
   "id": "0992d6e7",
   "metadata": {},
   "outputs": [
    {
     "name": "stdout",
     "output_type": "stream",
     "text": [
      "<class 'pandas.core.frame.DataFrame'>\n",
      "RangeIndex: 18068 entries, 0 to 18067\n",
      "Data columns (total 4 columns):\n",
      " #   Column    Non-Null Count  Dtype  \n",
      "---  ------    --------------  -----  \n",
      " 0   user_id   18068 non-null  int64  \n",
      " 1   distance  18068 non-null  float64\n",
      " 2   duration  18068 non-null  float64\n",
      " 3   date      18068 non-null  object \n",
      "dtypes: float64(2), int64(1), object(1)\n",
      "memory usage: 564.8+ KB\n"
     ]
    }
   ],
   "source": [
    "data2.info()"
   ]
  },
  {
   "cell_type": "code",
   "execution_count": 55,
   "id": "6bca9786",
   "metadata": {},
   "outputs": [
    {
     "data": {
      "text/html": [
       "<div>\n",
       "<style scoped>\n",
       "    .dataframe tbody tr th:only-of-type {\n",
       "        vertical-align: middle;\n",
       "    }\n",
       "\n",
       "    .dataframe tbody tr th {\n",
       "        vertical-align: top;\n",
       "    }\n",
       "\n",
       "    .dataframe thead th {\n",
       "        text-align: right;\n",
       "    }\n",
       "</style>\n",
       "<table border=\"1\" class=\"dataframe\">\n",
       "  <thead>\n",
       "    <tr style=\"text-align: right;\">\n",
       "      <th></th>\n",
       "      <th>subscription_type</th>\n",
       "      <th>minute_price</th>\n",
       "      <th>start_ride_price</th>\n",
       "      <th>subscription_fee</th>\n",
       "    </tr>\n",
       "  </thead>\n",
       "  <tbody>\n",
       "    <tr>\n",
       "      <th>0</th>\n",
       "      <td>free</td>\n",
       "      <td>8</td>\n",
       "      <td>50</td>\n",
       "      <td>0</td>\n",
       "    </tr>\n",
       "    <tr>\n",
       "      <th>1</th>\n",
       "      <td>ultra</td>\n",
       "      <td>6</td>\n",
       "      <td>0</td>\n",
       "      <td>199</td>\n",
       "    </tr>\n",
       "  </tbody>\n",
       "</table>\n",
       "</div>"
      ],
      "text/plain": [
       "  subscription_type  minute_price  start_ride_price  subscription_fee\n",
       "0              free             8                50                 0\n",
       "1             ultra             6                 0               199"
      ]
     },
     "execution_count": 55,
     "metadata": {},
     "output_type": "execute_result"
    }
   ],
   "source": [
    "data3 = pd.read_csv('/datasets/subscriptions_go.csv')#Подписки\n",
    "data3.head()"
   ]
  },
  {
   "cell_type": "markdown",
   "id": "1972cc9b",
   "metadata": {},
   "source": [
    "В рамках обзора данных было установлено следующее:\n",
    "- пропусков ни в одной из таблиц не обнаружено, работу над дубликатами проведем на следующем этапе;\n",
    "- есть стобцы, в которых необходимо изменить тип данных.\n",
    "Данные проблемы решим на этапе Предобработка данных."
   ]
  },
  {
   "cell_type": "markdown",
   "id": "e95ebca7",
   "metadata": {},
   "source": [
    "# Шаг 2. Предобработка данных"
   ]
  },
  {
   "cell_type": "code",
   "execution_count": 56,
   "id": "af6d202c",
   "metadata": {},
   "outputs": [],
   "source": [
    "data2['date'] = pd.to_datetime(data2['date'],format='%Y-%m-%dT%H:%M:%S')"
   ]
  },
  {
   "cell_type": "markdown",
   "id": "432c4dac",
   "metadata": {},
   "source": [
    "<div class=\"alert alert-success\">\n",
    "\n",
    "**Артём:** 👍 Верно.\n",
    "  \n",
    "</div> "
   ]
  },
  {
   "cell_type": "code",
   "execution_count": 57,
   "id": "8823066a",
   "metadata": {},
   "outputs": [],
   "source": [
    "data2['duration'] = np.ceil(data2['duration']).astype(int)"
   ]
  },
  {
   "cell_type": "code",
   "execution_count": 58,
   "id": "d8fd301b",
   "metadata": {},
   "outputs": [],
   "source": [
    "data2['month_number'] = data2['date'].dt.month"
   ]
  },
  {
   "cell_type": "code",
   "execution_count": 59,
   "id": "75e3672c",
   "metadata": {},
   "outputs": [
    {
     "name": "stdout",
     "output_type": "stream",
     "text": [
      "<class 'pandas.core.frame.DataFrame'>\n",
      "RangeIndex: 18068 entries, 0 to 18067\n",
      "Data columns (total 5 columns):\n",
      " #   Column        Non-Null Count  Dtype         \n",
      "---  ------        --------------  -----         \n",
      " 0   user_id       18068 non-null  int64         \n",
      " 1   distance      18068 non-null  float64       \n",
      " 2   duration      18068 non-null  int64         \n",
      " 3   date          18068 non-null  datetime64[ns]\n",
      " 4   month_number  18068 non-null  int64         \n",
      "dtypes: datetime64[ns](1), float64(1), int64(3)\n",
      "memory usage: 705.9 KB\n"
     ]
    }
   ],
   "source": [
    "data2.info()"
   ]
  },
  {
   "cell_type": "code",
   "execution_count": 60,
   "id": "21414597",
   "metadata": {},
   "outputs": [
    {
     "data": {
      "text/html": [
       "<div>\n",
       "<style scoped>\n",
       "    .dataframe tbody tr th:only-of-type {\n",
       "        vertical-align: middle;\n",
       "    }\n",
       "\n",
       "    .dataframe tbody tr th {\n",
       "        vertical-align: top;\n",
       "    }\n",
       "\n",
       "    .dataframe thead th {\n",
       "        text-align: right;\n",
       "    }\n",
       "</style>\n",
       "<table border=\"1\" class=\"dataframe\">\n",
       "  <thead>\n",
       "    <tr style=\"text-align: right;\">\n",
       "      <th></th>\n",
       "      <th>user_id</th>\n",
       "      <th>distance</th>\n",
       "      <th>duration</th>\n",
       "      <th>date</th>\n",
       "      <th>month_number</th>\n",
       "    </tr>\n",
       "  </thead>\n",
       "  <tbody>\n",
       "    <tr>\n",
       "      <th>0</th>\n",
       "      <td>1</td>\n",
       "      <td>4409.919140</td>\n",
       "      <td>26</td>\n",
       "      <td>2021-01-01</td>\n",
       "      <td>1</td>\n",
       "    </tr>\n",
       "    <tr>\n",
       "      <th>1</th>\n",
       "      <td>1</td>\n",
       "      <td>2617.592153</td>\n",
       "      <td>16</td>\n",
       "      <td>2021-01-18</td>\n",
       "      <td>1</td>\n",
       "    </tr>\n",
       "    <tr>\n",
       "      <th>2</th>\n",
       "      <td>1</td>\n",
       "      <td>754.159807</td>\n",
       "      <td>7</td>\n",
       "      <td>2021-04-20</td>\n",
       "      <td>4</td>\n",
       "    </tr>\n",
       "    <tr>\n",
       "      <th>3</th>\n",
       "      <td>1</td>\n",
       "      <td>2694.783254</td>\n",
       "      <td>19</td>\n",
       "      <td>2021-08-11</td>\n",
       "      <td>8</td>\n",
       "    </tr>\n",
       "    <tr>\n",
       "      <th>4</th>\n",
       "      <td>1</td>\n",
       "      <td>4028.687306</td>\n",
       "      <td>27</td>\n",
       "      <td>2021-08-28</td>\n",
       "      <td>8</td>\n",
       "    </tr>\n",
       "  </tbody>\n",
       "</table>\n",
       "</div>"
      ],
      "text/plain": [
       "   user_id     distance  duration       date  month_number\n",
       "0        1  4409.919140        26 2021-01-01             1\n",
       "1        1  2617.592153        16 2021-01-18             1\n",
       "2        1   754.159807         7 2021-04-20             4\n",
       "3        1  2694.783254        19 2021-08-11             8\n",
       "4        1  4028.687306        27 2021-08-28             8"
      ]
     },
     "execution_count": 60,
     "metadata": {},
     "output_type": "execute_result"
    }
   ],
   "source": [
    "data2.head()"
   ]
  },
  {
   "cell_type": "code",
   "execution_count": 61,
   "id": "a8aac11f",
   "metadata": {},
   "outputs": [
    {
     "data": {
      "text/plain": [
       "user_id              0\n",
       "name                 0\n",
       "age                  0\n",
       "city                 0\n",
       "subscription_type    0\n",
       "dtype: int64"
      ]
     },
     "execution_count": 61,
     "metadata": {},
     "output_type": "execute_result"
    }
   ],
   "source": [
    "data1.isna().sum()"
   ]
  },
  {
   "cell_type": "code",
   "execution_count": 62,
   "id": "d3b6bbad",
   "metadata": {},
   "outputs": [
    {
     "data": {
      "text/plain": [
       "user_id         0\n",
       "distance        0\n",
       "duration        0\n",
       "date            0\n",
       "month_number    0\n",
       "dtype: int64"
      ]
     },
     "execution_count": 62,
     "metadata": {},
     "output_type": "execute_result"
    }
   ],
   "source": [
    "data2.isna().sum()"
   ]
  },
  {
   "cell_type": "code",
   "execution_count": 63,
   "id": "b4034c92",
   "metadata": {},
   "outputs": [
    {
     "data": {
      "text/plain": [
       "31"
      ]
     },
     "execution_count": 63,
     "metadata": {},
     "output_type": "execute_result"
    }
   ],
   "source": [
    "data1.duplicated().sum()"
   ]
  },
  {
   "cell_type": "code",
   "execution_count": 64,
   "id": "b3e51b5f",
   "metadata": {},
   "outputs": [],
   "source": [
    "data1 = data1.drop_duplicates()"
   ]
  },
  {
   "cell_type": "code",
   "execution_count": 65,
   "id": "5b005a0b",
   "metadata": {},
   "outputs": [
    {
     "data": {
      "text/plain": [
       "0"
      ]
     },
     "execution_count": 65,
     "metadata": {},
     "output_type": "execute_result"
    }
   ],
   "source": [
    "data1.duplicated().sum()"
   ]
  },
  {
   "cell_type": "code",
   "execution_count": 66,
   "id": "890bb3f7",
   "metadata": {},
   "outputs": [
    {
     "data": {
      "text/plain": [
       "0"
      ]
     },
     "execution_count": 66,
     "metadata": {},
     "output_type": "execute_result"
    }
   ],
   "source": [
    "data2.duplicated().sum()"
   ]
  },
  {
   "cell_type": "markdown",
   "id": "6fe09574",
   "metadata": {},
   "source": [
    "В рамках предобработки удалили явные дубликаты, изменили тип данных в одном из столбцов."
   ]
  },
  {
   "cell_type": "markdown",
   "id": "212593c7",
   "metadata": {},
   "source": [
    "# Шаг 3. Исследовательский анализ данных"
   ]
  },
  {
   "cell_type": "markdown",
   "id": "278f22ed",
   "metadata": {},
   "source": [
    "Опишите и визуализируйте общую информацию о пользователях и поездках:\n"
   ]
  },
  {
   "cell_type": "code",
   "execution_count": 67,
   "id": "171282c2",
   "metadata": {},
   "outputs": [],
   "source": [
    "city_sort = data1.groupby(by='city')['city'].count().sort_values()"
   ]
  },
  {
   "cell_type": "code",
   "execution_count": 68,
   "id": "d05db17f",
   "metadata": {},
   "outputs": [
    {
     "data": {
      "text/plain": [
       "<AxesSubplot:title={'center':'Частота встречаемости городов'}, xlabel='Название города', ylabel='Частота встречаемости города'>"
      ]
     },
     "execution_count": 68,
     "metadata": {},
     "output_type": "execute_result"
    },
    {
     "data": {
      "image/png": "[encoded data removed]",
      "text/plain": [
       "<Figure size 432x288 with 1 Axes>"
      ]
     },
     "metadata": {
      "needs_background": "light"
     },
     "output_type": "display_data"
    }
   ],
   "source": [
    "city_sort.plot(kind='bar', title = 'Частота встречаемости городов', ylabel = 'Частота встречаемости города', xlabel = 'Название города') #частота встречаемости городов"
   ]
  },
  {
   "cell_type": "markdown",
   "id": "9d236e34",
   "metadata": {},
   "source": [
    "**Вывод: График выше показывает, что Пятигорск занимает первое место среди всех городов по частоте встречаемости, скорей всего именно с этого города GoFast начал свою деятельность. Москва при этом гораздо менее популярна, возможно в Москве компания относительно недавно начала распространять самокаты.**"
   ]
  },
  {
   "cell_type": "code",
   "execution_count": 69,
   "id": "49fdddf4",
   "metadata": {},
   "outputs": [
    {
     "data": {
      "text/plain": [
       "free     835\n",
       "ultra    699\n",
       "Name: subscription_type, dtype: int64"
      ]
     },
     "execution_count": 69,
     "metadata": {},
     "output_type": "execute_result"
    }
   ],
   "source": [
    "data1['subscription_type'].value_counts()"
   ]
  },
  {
   "cell_type": "code",
   "execution_count": 70,
   "id": "6005f399",
   "metadata": {},
   "outputs": [
    {
     "data": {
      "text/plain": [
       "<AxesSubplot:title={'center':'Соотношение пользователей с подпиской и без подписки'}, xlabel='Тип подписки', ylabel='Количество пользователей'>"
      ]
     },
     "execution_count": 70,
     "metadata": {},
     "output_type": "execute_result"
    },
    {
     "data": {
      "image/png": "[encoded data removed]",
      "text/plain": [
       "<Figure size 432x288 with 1 Axes>"
      ]
     },
     "metadata": {
      "needs_background": "light"
     },
     "output_type": "display_data"
    }
   ],
   "source": [
    "data1.groupby(by='subscription_type')['subscription_type'].count().plot(kind='bar', title = 'Соотношение пользователей с подпиской и без подписки', ylabel = 'Количество пользователей', xlabel = 'Тип подписки') #соотношение пользователей с подпиской и без подписки"
   ]
  },
  {
   "cell_type": "markdown",
   "id": "93ec7555",
   "metadata": {},
   "source": [
    "**Вывод: По графику видно, что пользователей без подписки больше пользователей с подпиской, при этом сама разница не значительная.\n",
    "Это показывает то, что почти половина пользователей переходят на платную подписку. \n",
    "Неплохо работает или реклама, или условия пользования подпиской, или все вместе.**"
   ]
  },
  {
   "cell_type": "code",
   "execution_count": 71,
   "id": "2e40925d",
   "metadata": {},
   "outputs": [
    {
     "data": {
      "text/plain": [
       "17    12\n",
       "20    13\n",
       "13    14\n",
       "21    15\n",
       "23    16\n",
       "16    17\n",
       "8     18\n",
       "14    19\n",
       "2     20\n",
       "7     21\n",
       "0     22\n",
       "6     23\n",
       "10    24\n",
       "5     25\n",
       "3     26\n",
       "9     27\n",
       "4     28\n",
       "11    29\n",
       "15    30\n",
       "1     31\n",
       "12    32\n",
       "19    33\n",
       "24    34\n",
       "18    35\n",
       "26    36\n",
       "22    37\n",
       "25    38\n",
       "27    39\n",
       "28    43\n",
       "dtype: int64"
      ]
     },
     "execution_count": 71,
     "metadata": {},
     "output_type": "execute_result"
    }
   ],
   "source": [
    "unique_values = data1['age'].unique()\n",
    "pd.Series(unique_values).sort_values()"
   ]
  },
  {
   "cell_type": "markdown",
   "id": "0d5b8e8d",
   "metadata": {},
   "source": [
    "12–18 — 'до 18 лет';\n",
    "19-26 — 'до 26 лет';\n",
    "27–33 — 'до 33 лет';\n",
    "34–43 — 'до 43 лет';"
   ]
  },
  {
   "cell_type": "code",
   "execution_count": 72,
   "id": "7df75160",
   "metadata": {},
   "outputs": [],
   "source": [
    "def categorize_age(i):\n",
    "    try:\n",
    "        if 12 <= i <= 18:\n",
    "            return 'до 18 лет'\n",
    "        elif 19 <= i <= 26:\n",
    "            return 'до 26 лет'\n",
    "        elif 27 <= i <= 33:\n",
    "            return 'до 33 лет'\n",
    "        elif 34 <= i <= 43:\n",
    "            return 'до 43 лет'\n",
    "    except:\n",
    "        pass"
   ]
  },
  {
   "cell_type": "code",
   "execution_count": 73,
   "id": "ac4cf43c",
   "metadata": {},
   "outputs": [],
   "source": [
    "data1['age_category'] = data1['age'].apply(categorize_age)"
   ]
  },
  {
   "cell_type": "code",
   "execution_count": 74,
   "id": "bb121339",
   "metadata": {},
   "outputs": [
    {
     "data": {
      "text/html": [
       "<div>\n",
       "<style scoped>\n",
       "    .dataframe tbody tr th:only-of-type {\n",
       "        vertical-align: middle;\n",
       "    }\n",
       "\n",
       "    .dataframe tbody tr th {\n",
       "        vertical-align: top;\n",
       "    }\n",
       "\n",
       "    .dataframe thead th {\n",
       "        text-align: right;\n",
       "    }\n",
       "</style>\n",
       "<table border=\"1\" class=\"dataframe\">\n",
       "  <thead>\n",
       "    <tr style=\"text-align: right;\">\n",
       "      <th></th>\n",
       "      <th>user_id</th>\n",
       "      <th>name</th>\n",
       "      <th>age</th>\n",
       "      <th>city</th>\n",
       "      <th>subscription_type</th>\n",
       "      <th>age_category</th>\n",
       "    </tr>\n",
       "  </thead>\n",
       "  <tbody>\n",
       "    <tr>\n",
       "      <th>0</th>\n",
       "      <td>1</td>\n",
       "      <td>Кира</td>\n",
       "      <td>22</td>\n",
       "      <td>Тюмень</td>\n",
       "      <td>ultra</td>\n",
       "      <td>до 26 лет</td>\n",
       "    </tr>\n",
       "    <tr>\n",
       "      <th>1</th>\n",
       "      <td>2</td>\n",
       "      <td>Станислав</td>\n",
       "      <td>31</td>\n",
       "      <td>Омск</td>\n",
       "      <td>ultra</td>\n",
       "      <td>до 33 лет</td>\n",
       "    </tr>\n",
       "    <tr>\n",
       "      <th>2</th>\n",
       "      <td>3</td>\n",
       "      <td>Алексей</td>\n",
       "      <td>20</td>\n",
       "      <td>Москва</td>\n",
       "      <td>ultra</td>\n",
       "      <td>до 26 лет</td>\n",
       "    </tr>\n",
       "    <tr>\n",
       "      <th>3</th>\n",
       "      <td>4</td>\n",
       "      <td>Константин</td>\n",
       "      <td>26</td>\n",
       "      <td>Ростов-на-Дону</td>\n",
       "      <td>ultra</td>\n",
       "      <td>до 26 лет</td>\n",
       "    </tr>\n",
       "    <tr>\n",
       "      <th>4</th>\n",
       "      <td>5</td>\n",
       "      <td>Адель</td>\n",
       "      <td>28</td>\n",
       "      <td>Омск</td>\n",
       "      <td>ultra</td>\n",
       "      <td>до 33 лет</td>\n",
       "    </tr>\n",
       "  </tbody>\n",
       "</table>\n",
       "</div>"
      ],
      "text/plain": [
       "   user_id        name  age            city subscription_type age_category\n",
       "0        1        Кира   22          Тюмень             ultra    до 26 лет\n",
       "1        2   Станислав   31            Омск             ultra    до 33 лет\n",
       "2        3     Алексей   20          Москва             ultra    до 26 лет\n",
       "3        4  Константин   26  Ростов-на-Дону             ultra    до 26 лет\n",
       "4        5       Адель   28            Омск             ultra    до 33 лет"
      ]
     },
     "execution_count": 74,
     "metadata": {},
     "output_type": "execute_result"
    }
   ],
   "source": [
    "data1.head()"
   ]
  },
  {
   "cell_type": "code",
   "execution_count": 75,
   "id": "90845e14",
   "metadata": {},
   "outputs": [
    {
     "data": {
      "text/plain": [
       "<AxesSubplot:title={'center':'Возраст пользователей'}, xlabel='Категории возрастов', ylabel='Количество пользователей'>"
      ]
     },
     "execution_count": 75,
     "metadata": {},
     "output_type": "execute_result"
    },
    {
     "data": {
      "image/png": "[encoded data removed]",
      "text/plain": [
       "<Figure size 432x288 with 1 Axes>"
      ]
     },
     "metadata": {
      "needs_background": "light"
     },
     "output_type": "display_data"
    }
   ],
   "source": [
    "data1.groupby(by='age_category')['age_category'].count().plot(kind='bar', title = 'Возраст пользователей',ylabel = 'Количество пользователей', xlabel = 'Категории возрастов') #возраст пользователей"
   ]
  },
  {
   "cell_type": "markdown",
   "id": "91cd5c2f",
   "metadata": {},
   "source": [
    "**Вывод: По графику видно, что наибольший удельный вес имеют пользователи в возрасте от 19 до 26 лет.\n",
    "На эту аудиторию и стоит ориентироваться при планировании стратегии компании.**"
   ]
  },
  {
   "cell_type": "code",
   "execution_count": 76,
   "id": "1f81a305",
   "metadata": {},
   "outputs": [
    {
     "data": {
      "text/html": [
       "<div>\n",
       "<style scoped>\n",
       "    .dataframe tbody tr th:only-of-type {\n",
       "        vertical-align: middle;\n",
       "    }\n",
       "\n",
       "    .dataframe tbody tr th {\n",
       "        vertical-align: top;\n",
       "    }\n",
       "\n",
       "    .dataframe thead th {\n",
       "        text-align: right;\n",
       "    }\n",
       "</style>\n",
       "<table border=\"1\" class=\"dataframe\">\n",
       "  <thead>\n",
       "    <tr style=\"text-align: right;\">\n",
       "      <th></th>\n",
       "      <th>user_id</th>\n",
       "      <th>distance</th>\n",
       "      <th>duration</th>\n",
       "      <th>date</th>\n",
       "      <th>month_number</th>\n",
       "    </tr>\n",
       "  </thead>\n",
       "  <tbody>\n",
       "    <tr>\n",
       "      <th>0</th>\n",
       "      <td>1</td>\n",
       "      <td>4409.919140</td>\n",
       "      <td>26</td>\n",
       "      <td>2021-01-01</td>\n",
       "      <td>1</td>\n",
       "    </tr>\n",
       "    <tr>\n",
       "      <th>1</th>\n",
       "      <td>1</td>\n",
       "      <td>2617.592153</td>\n",
       "      <td>16</td>\n",
       "      <td>2021-01-18</td>\n",
       "      <td>1</td>\n",
       "    </tr>\n",
       "    <tr>\n",
       "      <th>2</th>\n",
       "      <td>1</td>\n",
       "      <td>754.159807</td>\n",
       "      <td>7</td>\n",
       "      <td>2021-04-20</td>\n",
       "      <td>4</td>\n",
       "    </tr>\n",
       "    <tr>\n",
       "      <th>3</th>\n",
       "      <td>1</td>\n",
       "      <td>2694.783254</td>\n",
       "      <td>19</td>\n",
       "      <td>2021-08-11</td>\n",
       "      <td>8</td>\n",
       "    </tr>\n",
       "    <tr>\n",
       "      <th>4</th>\n",
       "      <td>1</td>\n",
       "      <td>4028.687306</td>\n",
       "      <td>27</td>\n",
       "      <td>2021-08-28</td>\n",
       "      <td>8</td>\n",
       "    </tr>\n",
       "  </tbody>\n",
       "</table>\n",
       "</div>"
      ],
      "text/plain": [
       "   user_id     distance  duration       date  month_number\n",
       "0        1  4409.919140        26 2021-01-01             1\n",
       "1        1  2617.592153        16 2021-01-18             1\n",
       "2        1   754.159807         7 2021-04-20             4\n",
       "3        1  2694.783254        19 2021-08-11             8\n",
       "4        1  4028.687306        27 2021-08-28             8"
      ]
     },
     "execution_count": 76,
     "metadata": {},
     "output_type": "execute_result"
    }
   ],
   "source": [
    "data2.head()"
   ]
  },
  {
   "cell_type": "code",
   "execution_count": 77,
   "id": "fac8d35e",
   "metadata": {},
   "outputs": [
    {
     "data": {
      "text/plain": [
       "11555       0.855683\n",
       "9541        2.570787\n",
       "13690       4.329506\n",
       "8658        6.784447\n",
       "7841        7.097072\n",
       "            ...     \n",
       "17242    6724.932981\n",
       "17171    6760.940067\n",
       "15580    6908.491343\n",
       "16484    7066.003772\n",
       "16309    7211.007745\n",
       "Name: distance, Length: 18068, dtype: float64"
      ]
     },
     "execution_count": 77,
     "metadata": {},
     "output_type": "execute_result"
    }
   ],
   "source": [
    "data2['distance'].sort_values()"
   ]
  },
  {
   "cell_type": "markdown",
   "id": "525c6f0c",
   "metadata": {},
   "source": [
    "Минимальная дистанциая, которую пользователи проехали на самокатах - 855 метров.\n",
    "Максимальная - 7.2 км."
   ]
  },
  {
   "cell_type": "code",
   "execution_count": 78,
   "id": "20d71f0d",
   "metadata": {},
   "outputs": [
    {
     "data": {
      "image/png": "[encoded data removed]",
      "text/plain": [
       "<Figure size 432x288 with 1 Axes>"
      ]
     },
     "metadata": {
      "needs_background": "light"
     },
     "output_type": "display_data"
    }
   ],
   "source": [
    "data2.hist('distance', bins=50)\n",
    "plt.xlabel('Пользователи')\n",
    "plt.ylabel('Частота')\n",
    "plt.title('Расстояние каждого пользователя')\n",
    "plt.show()"
   ]
  },
  {
   "cell_type": "markdown",
   "id": "5fbb5e77",
   "metadata": {},
   "source": [
    "**Большинство пользователей проежает расстояние от 2.5-3.5 км.**"
   ]
  },
  {
   "cell_type": "code",
   "execution_count": 79,
   "id": "9794458b",
   "metadata": {},
   "outputs": [
    {
     "data": {
      "text/plain": [
       "6860      1\n",
       "16704     1\n",
       "10426     1\n",
       "16336     1\n",
       "6531      1\n",
       "         ..\n",
       "1998     39\n",
       "6453     39\n",
       "2623     40\n",
       "4709     40\n",
       "4215     41\n",
       "Name: duration, Length: 18068, dtype: int64"
      ]
     },
     "execution_count": 79,
     "metadata": {},
     "output_type": "execute_result"
    }
   ],
   "source": [
    "data2['duration'].sort_values()"
   ]
  },
  {
   "cell_type": "markdown",
   "id": "6ba61fb8",
   "metadata": {},
   "source": [
    "Минимальная продолжительность поездки - 1 мин. Возможно, что пользователь случайно воспользовался приложением или у него возникли проблемы в использовании самоката на первом этапе пользования самокатом.\n",
    "Максимальная - 41 мин."
   ]
  },
  {
   "cell_type": "code",
   "execution_count": 80,
   "id": "b5128f65",
   "metadata": {},
   "outputs": [
    {
     "data": {
      "image/png": "[encoded data removed]",
      "text/plain": [
       "<Figure size 432x288 with 1 Axes>"
      ]
     },
     "metadata": {
      "needs_background": "light"
     },
     "output_type": "display_data"
    }
   ],
   "source": [
    "data2.hist('duration', bins=50)\n",
    "plt.xlabel('Пользователи')\n",
    "plt.ylabel('Частота')\n",
    "plt.title('Длительность каждого пользователя')\n",
    "plt.show()"
   ]
  },
  {
   "cell_type": "markdown",
   "id": "23c30e50",
   "metadata": {},
   "source": [
    "**Большинство пользователей пользуется приложением от 15-23 мин.**"
   ]
  },
  {
   "cell_type": "markdown",
   "id": "4ef51331",
   "metadata": {},
   "source": [
    "# Шаг 4. Объединение данных"
   ]
  },
  {
   "cell_type": "markdown",
   "id": "00b58b24",
   "metadata": {},
   "source": [
    "Объединие данных о пользователях, поездках и подписках в один датафрейм"
   ]
  },
  {
   "cell_type": "code",
   "execution_count": 81,
   "id": "393f3d7c",
   "metadata": {},
   "outputs": [],
   "source": [
    "data4 = data1.merge(data2, on='user_id')\n",
    "data4 = data4.merge(data3)"
   ]
  },
  {
   "cell_type": "code",
   "execution_count": 82,
   "id": "14258bf3",
   "metadata": {},
   "outputs": [
    {
     "name": "stdout",
     "output_type": "stream",
     "text": [
      "<class 'pandas.core.frame.DataFrame'>\n",
      "Int64Index: 18068 entries, 0 to 18067\n",
      "Data columns (total 13 columns):\n",
      " #   Column             Non-Null Count  Dtype         \n",
      "---  ------             --------------  -----         \n",
      " 0   user_id            18068 non-null  int64         \n",
      " 1   name               18068 non-null  object        \n",
      " 2   age                18068 non-null  int64         \n",
      " 3   city               18068 non-null  object        \n",
      " 4   subscription_type  18068 non-null  object        \n",
      " 5   age_category       18068 non-null  object        \n",
      " 6   distance           18068 non-null  float64       \n",
      " 7   duration           18068 non-null  int64         \n",
      " 8   date               18068 non-null  datetime64[ns]\n",
      " 9   month_number       18068 non-null  int64         \n",
      " 10  minute_price       18068 non-null  int64         \n",
      " 11  start_ride_price   18068 non-null  int64         \n",
      " 12  subscription_fee   18068 non-null  int64         \n",
      "dtypes: datetime64[ns](1), float64(1), int64(7), object(4)\n",
      "memory usage: 1.9+ MB\n"
     ]
    }
   ],
   "source": [
    "data4.info()"
   ]
  },
  {
   "cell_type": "markdown",
   "id": "833f26f5",
   "metadata": {},
   "source": [
    "**В получившийся датафрейм вошли все необходимые столбцы и строки**"
   ]
  },
  {
   "cell_type": "code",
   "execution_count": 83,
   "id": "f92c3782",
   "metadata": {},
   "outputs": [
    {
     "data": {
      "text/html": [
       "<div>\n",
       "<style scoped>\n",
       "    .dataframe tbody tr th:only-of-type {\n",
       "        vertical-align: middle;\n",
       "    }\n",
       "\n",
       "    .dataframe tbody tr th {\n",
       "        vertical-align: top;\n",
       "    }\n",
       "\n",
       "    .dataframe thead th {\n",
       "        text-align: right;\n",
       "    }\n",
       "</style>\n",
       "<table border=\"1\" class=\"dataframe\">\n",
       "  <thead>\n",
       "    <tr style=\"text-align: right;\">\n",
       "      <th></th>\n",
       "      <th>user_id</th>\n",
       "      <th>name</th>\n",
       "      <th>age</th>\n",
       "      <th>city</th>\n",
       "      <th>subscription_type</th>\n",
       "      <th>age_category</th>\n",
       "      <th>distance</th>\n",
       "      <th>duration</th>\n",
       "      <th>date</th>\n",
       "      <th>month_number</th>\n",
       "      <th>minute_price</th>\n",
       "      <th>start_ride_price</th>\n",
       "      <th>subscription_fee</th>\n",
       "    </tr>\n",
       "  </thead>\n",
       "  <tbody>\n",
       "    <tr>\n",
       "      <th>0</th>\n",
       "      <td>1</td>\n",
       "      <td>Кира</td>\n",
       "      <td>22</td>\n",
       "      <td>Тюмень</td>\n",
       "      <td>ultra</td>\n",
       "      <td>до 26 лет</td>\n",
       "      <td>4409.919140</td>\n",
       "      <td>26</td>\n",
       "      <td>2021-01-01</td>\n",
       "      <td>1</td>\n",
       "      <td>6</td>\n",
       "      <td>0</td>\n",
       "      <td>199</td>\n",
       "    </tr>\n",
       "    <tr>\n",
       "      <th>1</th>\n",
       "      <td>1</td>\n",
       "      <td>Кира</td>\n",
       "      <td>22</td>\n",
       "      <td>Тюмень</td>\n",
       "      <td>ultra</td>\n",
       "      <td>до 26 лет</td>\n",
       "      <td>2617.592153</td>\n",
       "      <td>16</td>\n",
       "      <td>2021-01-18</td>\n",
       "      <td>1</td>\n",
       "      <td>6</td>\n",
       "      <td>0</td>\n",
       "      <td>199</td>\n",
       "    </tr>\n",
       "    <tr>\n",
       "      <th>2</th>\n",
       "      <td>1</td>\n",
       "      <td>Кира</td>\n",
       "      <td>22</td>\n",
       "      <td>Тюмень</td>\n",
       "      <td>ultra</td>\n",
       "      <td>до 26 лет</td>\n",
       "      <td>754.159807</td>\n",
       "      <td>7</td>\n",
       "      <td>2021-04-20</td>\n",
       "      <td>4</td>\n",
       "      <td>6</td>\n",
       "      <td>0</td>\n",
       "      <td>199</td>\n",
       "    </tr>\n",
       "    <tr>\n",
       "      <th>3</th>\n",
       "      <td>1</td>\n",
       "      <td>Кира</td>\n",
       "      <td>22</td>\n",
       "      <td>Тюмень</td>\n",
       "      <td>ultra</td>\n",
       "      <td>до 26 лет</td>\n",
       "      <td>2694.783254</td>\n",
       "      <td>19</td>\n",
       "      <td>2021-08-11</td>\n",
       "      <td>8</td>\n",
       "      <td>6</td>\n",
       "      <td>0</td>\n",
       "      <td>199</td>\n",
       "    </tr>\n",
       "    <tr>\n",
       "      <th>4</th>\n",
       "      <td>1</td>\n",
       "      <td>Кира</td>\n",
       "      <td>22</td>\n",
       "      <td>Тюмень</td>\n",
       "      <td>ultra</td>\n",
       "      <td>до 26 лет</td>\n",
       "      <td>4028.687306</td>\n",
       "      <td>27</td>\n",
       "      <td>2021-08-28</td>\n",
       "      <td>8</td>\n",
       "      <td>6</td>\n",
       "      <td>0</td>\n",
       "      <td>199</td>\n",
       "    </tr>\n",
       "    <tr>\n",
       "      <th>...</th>\n",
       "      <td>...</td>\n",
       "      <td>...</td>\n",
       "      <td>...</td>\n",
       "      <td>...</td>\n",
       "      <td>...</td>\n",
       "      <td>...</td>\n",
       "      <td>...</td>\n",
       "      <td>...</td>\n",
       "      <td>...</td>\n",
       "      <td>...</td>\n",
       "      <td>...</td>\n",
       "      <td>...</td>\n",
       "      <td>...</td>\n",
       "    </tr>\n",
       "    <tr>\n",
       "      <th>6495</th>\n",
       "      <td>699</td>\n",
       "      <td>Оксана</td>\n",
       "      <td>22</td>\n",
       "      <td>Москва</td>\n",
       "      <td>ultra</td>\n",
       "      <td>до 26 лет</td>\n",
       "      <td>3973.046497</td>\n",
       "      <td>25</td>\n",
       "      <td>2021-08-29</td>\n",
       "      <td>8</td>\n",
       "      <td>6</td>\n",
       "      <td>0</td>\n",
       "      <td>199</td>\n",
       "    </tr>\n",
       "    <tr>\n",
       "      <th>6496</th>\n",
       "      <td>699</td>\n",
       "      <td>Оксана</td>\n",
       "      <td>22</td>\n",
       "      <td>Москва</td>\n",
       "      <td>ultra</td>\n",
       "      <td>до 26 лет</td>\n",
       "      <td>3288.702563</td>\n",
       "      <td>16</td>\n",
       "      <td>2021-09-12</td>\n",
       "      <td>9</td>\n",
       "      <td>6</td>\n",
       "      <td>0</td>\n",
       "      <td>199</td>\n",
       "    </tr>\n",
       "    <tr>\n",
       "      <th>6497</th>\n",
       "      <td>699</td>\n",
       "      <td>Оксана</td>\n",
       "      <td>22</td>\n",
       "      <td>Москва</td>\n",
       "      <td>ultra</td>\n",
       "      <td>до 26 лет</td>\n",
       "      <td>3076.159348</td>\n",
       "      <td>15</td>\n",
       "      <td>2021-09-26</td>\n",
       "      <td>9</td>\n",
       "      <td>6</td>\n",
       "      <td>0</td>\n",
       "      <td>199</td>\n",
       "    </tr>\n",
       "    <tr>\n",
       "      <th>6498</th>\n",
       "      <td>699</td>\n",
       "      <td>Оксана</td>\n",
       "      <td>22</td>\n",
       "      <td>Москва</td>\n",
       "      <td>ultra</td>\n",
       "      <td>до 26 лет</td>\n",
       "      <td>4707.845501</td>\n",
       "      <td>16</td>\n",
       "      <td>2021-10-17</td>\n",
       "      <td>10</td>\n",
       "      <td>6</td>\n",
       "      <td>0</td>\n",
       "      <td>199</td>\n",
       "    </tr>\n",
       "    <tr>\n",
       "      <th>6499</th>\n",
       "      <td>699</td>\n",
       "      <td>Оксана</td>\n",
       "      <td>22</td>\n",
       "      <td>Москва</td>\n",
       "      <td>ultra</td>\n",
       "      <td>до 26 лет</td>\n",
       "      <td>3202.890770</td>\n",
       "      <td>26</td>\n",
       "      <td>2021-12-03</td>\n",
       "      <td>12</td>\n",
       "      <td>6</td>\n",
       "      <td>0</td>\n",
       "      <td>199</td>\n",
       "    </tr>\n",
       "  </tbody>\n",
       "</table>\n",
       "<p>6500 rows × 13 columns</p>\n",
       "</div>"
      ],
      "text/plain": [
       "      user_id    name  age    city subscription_type age_category  \\\n",
       "0           1    Кира   22  Тюмень             ultra    до 26 лет   \n",
       "1           1    Кира   22  Тюмень             ultra    до 26 лет   \n",
       "2           1    Кира   22  Тюмень             ultra    до 26 лет   \n",
       "3           1    Кира   22  Тюмень             ultra    до 26 лет   \n",
       "4           1    Кира   22  Тюмень             ultra    до 26 лет   \n",
       "...       ...     ...  ...     ...               ...          ...   \n",
       "6495      699  Оксана   22  Москва             ultra    до 26 лет   \n",
       "6496      699  Оксана   22  Москва             ultra    до 26 лет   \n",
       "6497      699  Оксана   22  Москва             ultra    до 26 лет   \n",
       "6498      699  Оксана   22  Москва             ultra    до 26 лет   \n",
       "6499      699  Оксана   22  Москва             ultra    до 26 лет   \n",
       "\n",
       "         distance  duration       date  month_number  minute_price  \\\n",
       "0     4409.919140        26 2021-01-01             1             6   \n",
       "1     2617.592153        16 2021-01-18             1             6   \n",
       "2      754.159807         7 2021-04-20             4             6   \n",
       "3     2694.783254        19 2021-08-11             8             6   \n",
       "4     4028.687306        27 2021-08-28             8             6   \n",
       "...           ...       ...        ...           ...           ...   \n",
       "6495  3973.046497        25 2021-08-29             8             6   \n",
       "6496  3288.702563        16 2021-09-12             9             6   \n",
       "6497  3076.159348        15 2021-09-26             9             6   \n",
       "6498  4707.845501        16 2021-10-17            10             6   \n",
       "6499  3202.890770        26 2021-12-03            12             6   \n",
       "\n",
       "      start_ride_price  subscription_fee  \n",
       "0                    0               199  \n",
       "1                    0               199  \n",
       "2                    0               199  \n",
       "3                    0               199  \n",
       "4                    0               199  \n",
       "...                ...               ...  \n",
       "6495                 0               199  \n",
       "6496                 0               199  \n",
       "6497                 0               199  \n",
       "6498                 0               199  \n",
       "6499                 0               199  \n",
       "\n",
       "[6500 rows x 13 columns]"
      ]
     },
     "execution_count": 83,
     "metadata": {},
     "output_type": "execute_result"
    }
   ],
   "source": [
    "data4.query('subscription_type == \"ultra\"')"
   ]
  },
  {
   "cell_type": "code",
   "execution_count": 84,
   "id": "9bdf2c16",
   "metadata": {},
   "outputs": [],
   "source": [
    "sub_data = data4.query('subscription_type == \"ultra\"')"
   ]
  },
  {
   "cell_type": "code",
   "execution_count": 85,
   "id": "aca63b8e",
   "metadata": {},
   "outputs": [
    {
     "data": {
      "text/html": [
       "<div>\n",
       "<style scoped>\n",
       "    .dataframe tbody tr th:only-of-type {\n",
       "        vertical-align: middle;\n",
       "    }\n",
       "\n",
       "    .dataframe tbody tr th {\n",
       "        vertical-align: top;\n",
       "    }\n",
       "\n",
       "    .dataframe thead th {\n",
       "        text-align: right;\n",
       "    }\n",
       "</style>\n",
       "<table border=\"1\" class=\"dataframe\">\n",
       "  <thead>\n",
       "    <tr style=\"text-align: right;\">\n",
       "      <th></th>\n",
       "      <th>user_id</th>\n",
       "      <th>name</th>\n",
       "      <th>age</th>\n",
       "      <th>city</th>\n",
       "      <th>subscription_type</th>\n",
       "      <th>age_category</th>\n",
       "      <th>distance</th>\n",
       "      <th>duration</th>\n",
       "      <th>date</th>\n",
       "      <th>month_number</th>\n",
       "      <th>minute_price</th>\n",
       "      <th>start_ride_price</th>\n",
       "      <th>subscription_fee</th>\n",
       "    </tr>\n",
       "  </thead>\n",
       "  <tbody>\n",
       "    <tr>\n",
       "      <th>6500</th>\n",
       "      <td>700</td>\n",
       "      <td>Айдар</td>\n",
       "      <td>22</td>\n",
       "      <td>Омск</td>\n",
       "      <td>free</td>\n",
       "      <td>до 26 лет</td>\n",
       "      <td>2515.690719</td>\n",
       "      <td>15</td>\n",
       "      <td>2021-01-02</td>\n",
       "      <td>1</td>\n",
       "      <td>8</td>\n",
       "      <td>50</td>\n",
       "      <td>0</td>\n",
       "    </tr>\n",
       "    <tr>\n",
       "      <th>6501</th>\n",
       "      <td>700</td>\n",
       "      <td>Айдар</td>\n",
       "      <td>22</td>\n",
       "      <td>Омск</td>\n",
       "      <td>free</td>\n",
       "      <td>до 26 лет</td>\n",
       "      <td>846.932642</td>\n",
       "      <td>17</td>\n",
       "      <td>2021-02-01</td>\n",
       "      <td>2</td>\n",
       "      <td>8</td>\n",
       "      <td>50</td>\n",
       "      <td>0</td>\n",
       "    </tr>\n",
       "    <tr>\n",
       "      <th>6502</th>\n",
       "      <td>700</td>\n",
       "      <td>Айдар</td>\n",
       "      <td>22</td>\n",
       "      <td>Омск</td>\n",
       "      <td>free</td>\n",
       "      <td>до 26 лет</td>\n",
       "      <td>4004.434142</td>\n",
       "      <td>21</td>\n",
       "      <td>2021-02-04</td>\n",
       "      <td>2</td>\n",
       "      <td>8</td>\n",
       "      <td>50</td>\n",
       "      <td>0</td>\n",
       "    </tr>\n",
       "    <tr>\n",
       "      <th>6503</th>\n",
       "      <td>700</td>\n",
       "      <td>Айдар</td>\n",
       "      <td>22</td>\n",
       "      <td>Омск</td>\n",
       "      <td>free</td>\n",
       "      <td>до 26 лет</td>\n",
       "      <td>1205.911290</td>\n",
       "      <td>10</td>\n",
       "      <td>2021-02-10</td>\n",
       "      <td>2</td>\n",
       "      <td>8</td>\n",
       "      <td>50</td>\n",
       "      <td>0</td>\n",
       "    </tr>\n",
       "    <tr>\n",
       "      <th>6504</th>\n",
       "      <td>700</td>\n",
       "      <td>Айдар</td>\n",
       "      <td>22</td>\n",
       "      <td>Омск</td>\n",
       "      <td>free</td>\n",
       "      <td>до 26 лет</td>\n",
       "      <td>3047.379435</td>\n",
       "      <td>18</td>\n",
       "      <td>2021-02-14</td>\n",
       "      <td>2</td>\n",
       "      <td>8</td>\n",
       "      <td>50</td>\n",
       "      <td>0</td>\n",
       "    </tr>\n",
       "    <tr>\n",
       "      <th>...</th>\n",
       "      <td>...</td>\n",
       "      <td>...</td>\n",
       "      <td>...</td>\n",
       "      <td>...</td>\n",
       "      <td>...</td>\n",
       "      <td>...</td>\n",
       "      <td>...</td>\n",
       "      <td>...</td>\n",
       "      <td>...</td>\n",
       "      <td>...</td>\n",
       "      <td>...</td>\n",
       "      <td>...</td>\n",
       "      <td>...</td>\n",
       "    </tr>\n",
       "    <tr>\n",
       "      <th>18063</th>\n",
       "      <td>1534</td>\n",
       "      <td>Альберт</td>\n",
       "      <td>25</td>\n",
       "      <td>Краснодар</td>\n",
       "      <td>free</td>\n",
       "      <td>до 26 лет</td>\n",
       "      <td>3781.098080</td>\n",
       "      <td>20</td>\n",
       "      <td>2021-11-04</td>\n",
       "      <td>11</td>\n",
       "      <td>8</td>\n",
       "      <td>50</td>\n",
       "      <td>0</td>\n",
       "    </tr>\n",
       "    <tr>\n",
       "      <th>18064</th>\n",
       "      <td>1534</td>\n",
       "      <td>Альберт</td>\n",
       "      <td>25</td>\n",
       "      <td>Краснодар</td>\n",
       "      <td>free</td>\n",
       "      <td>до 26 лет</td>\n",
       "      <td>2840.423057</td>\n",
       "      <td>22</td>\n",
       "      <td>2021-11-16</td>\n",
       "      <td>11</td>\n",
       "      <td>8</td>\n",
       "      <td>50</td>\n",
       "      <td>0</td>\n",
       "    </tr>\n",
       "    <tr>\n",
       "      <th>18065</th>\n",
       "      <td>1534</td>\n",
       "      <td>Альберт</td>\n",
       "      <td>25</td>\n",
       "      <td>Краснодар</td>\n",
       "      <td>free</td>\n",
       "      <td>до 26 лет</td>\n",
       "      <td>3826.185507</td>\n",
       "      <td>19</td>\n",
       "      <td>2021-11-18</td>\n",
       "      <td>11</td>\n",
       "      <td>8</td>\n",
       "      <td>50</td>\n",
       "      <td>0</td>\n",
       "    </tr>\n",
       "    <tr>\n",
       "      <th>18066</th>\n",
       "      <td>1534</td>\n",
       "      <td>Альберт</td>\n",
       "      <td>25</td>\n",
       "      <td>Краснодар</td>\n",
       "      <td>free</td>\n",
       "      <td>до 26 лет</td>\n",
       "      <td>2902.308661</td>\n",
       "      <td>17</td>\n",
       "      <td>2021-11-27</td>\n",
       "      <td>11</td>\n",
       "      <td>8</td>\n",
       "      <td>50</td>\n",
       "      <td>0</td>\n",
       "    </tr>\n",
       "    <tr>\n",
       "      <th>18067</th>\n",
       "      <td>1534</td>\n",
       "      <td>Альберт</td>\n",
       "      <td>25</td>\n",
       "      <td>Краснодар</td>\n",
       "      <td>free</td>\n",
       "      <td>до 26 лет</td>\n",
       "      <td>2371.711192</td>\n",
       "      <td>16</td>\n",
       "      <td>2021-12-29</td>\n",
       "      <td>12</td>\n",
       "      <td>8</td>\n",
       "      <td>50</td>\n",
       "      <td>0</td>\n",
       "    </tr>\n",
       "  </tbody>\n",
       "</table>\n",
       "<p>11568 rows × 13 columns</p>\n",
       "</div>"
      ],
      "text/plain": [
       "       user_id     name  age       city subscription_type age_category  \\\n",
       "6500       700    Айдар   22       Омск              free    до 26 лет   \n",
       "6501       700    Айдар   22       Омск              free    до 26 лет   \n",
       "6502       700    Айдар   22       Омск              free    до 26 лет   \n",
       "6503       700    Айдар   22       Омск              free    до 26 лет   \n",
       "6504       700    Айдар   22       Омск              free    до 26 лет   \n",
       "...        ...      ...  ...        ...               ...          ...   \n",
       "18063     1534  Альберт   25  Краснодар              free    до 26 лет   \n",
       "18064     1534  Альберт   25  Краснодар              free    до 26 лет   \n",
       "18065     1534  Альберт   25  Краснодар              free    до 26 лет   \n",
       "18066     1534  Альберт   25  Краснодар              free    до 26 лет   \n",
       "18067     1534  Альберт   25  Краснодар              free    до 26 лет   \n",
       "\n",
       "          distance  duration       date  month_number  minute_price  \\\n",
       "6500   2515.690719        15 2021-01-02             1             8   \n",
       "6501    846.932642        17 2021-02-01             2             8   \n",
       "6502   4004.434142        21 2021-02-04             2             8   \n",
       "6503   1205.911290        10 2021-02-10             2             8   \n",
       "6504   3047.379435        18 2021-02-14             2             8   \n",
       "...            ...       ...        ...           ...           ...   \n",
       "18063  3781.098080        20 2021-11-04            11             8   \n",
       "18064  2840.423057        22 2021-11-16            11             8   \n",
       "18065  3826.185507        19 2021-11-18            11             8   \n",
       "18066  2902.308661        17 2021-11-27            11             8   \n",
       "18067  2371.711192        16 2021-12-29            12             8   \n",
       "\n",
       "       start_ride_price  subscription_fee  \n",
       "6500                 50                 0  \n",
       "6501                 50                 0  \n",
       "6502                 50                 0  \n",
       "6503                 50                 0  \n",
       "6504                 50                 0  \n",
       "...                 ...               ...  \n",
       "18063                50                 0  \n",
       "18064                50                 0  \n",
       "18065                50                 0  \n",
       "18066                50                 0  \n",
       "18067                50                 0  \n",
       "\n",
       "[11568 rows x 13 columns]"
      ]
     },
     "execution_count": 85,
     "metadata": {},
     "output_type": "execute_result"
    }
   ],
   "source": [
    "data4.query('subscription_type != \"ultra\"')"
   ]
  },
  {
   "cell_type": "code",
   "execution_count": 86,
   "id": "a6e72046",
   "metadata": {},
   "outputs": [],
   "source": [
    "nosub_data = data4.query('subscription_type != \"ultra\"')"
   ]
  },
  {
   "cell_type": "markdown",
   "id": "4a0ab032",
   "metadata": {},
   "source": [
    "Визуализируйте информацию о расстоянии и времени поездок для пользователей обеих категорий."
   ]
  },
  {
   "cell_type": "code",
   "execution_count": 87,
   "id": "6ab5b41b",
   "metadata": {},
   "outputs": [
    {
     "data": {
      "image/png": "[encoded data removed]",
      "text/plain": [
       "<Figure size 432x288 with 1 Axes>"
      ]
     },
     "metadata": {
      "needs_background": "light"
     },
     "output_type": "display_data"
    }
   ],
   "source": [
    "sub_data.hist('duration', bins=50)\n",
    "plt.xlabel('Пользователи')\n",
    "plt.ylabel('Частота')\n",
    "plt.title('Продолжительность пользования c подпиской')\n",
    "plt.show()"
   ]
  },
  {
   "cell_type": "code",
   "execution_count": 88,
   "id": "059d9b58",
   "metadata": {},
   "outputs": [
    {
     "data": {
      "image/png": "[encoded data removed]",
      "text/plain": [
       "<Figure size 432x288 with 1 Axes>"
      ]
     },
     "metadata": {
      "needs_background": "light"
     },
     "output_type": "display_data"
    }
   ],
   "source": [
    "sub_data.hist('distance', bins=50)\n",
    "plt.xlabel('Пользователи')\n",
    "plt.ylabel('Частота')\n",
    "plt.title('Расстояние пользователя c подпиской')\n",
    "plt.show()"
   ]
  },
  {
   "cell_type": "markdown",
   "id": "45e09cf4",
   "metadata": {},
   "source": [
    "**Вывод:**\n",
    "С подпиской: \n",
    "- по времени пользования - от 15 до 23 мин. Пик на 18 мин.\n",
    "- по расстоянию - от 2.5 до 4 км. Пик при этом на 3-х км.\n"
   ]
  },
  {
   "cell_type": "code",
   "execution_count": 89,
   "id": "a441dd91",
   "metadata": {},
   "outputs": [
    {
     "data": {
      "image/png": "[encoded data removed]",
      "text/plain": [
       "<Figure size 432x288 with 1 Axes>"
      ]
     },
     "metadata": {
      "needs_background": "light"
     },
     "output_type": "display_data"
    }
   ],
   "source": [
    "nosub_data.hist('duration', bins=50)\n",
    "plt.xlabel('Пользователи')\n",
    "plt.ylabel('Частота')\n",
    "plt.title('Продолжительность пользования без подписки')\n",
    "plt.show()"
   ]
  },
  {
   "cell_type": "code",
   "execution_count": 90,
   "id": "a35ce302",
   "metadata": {},
   "outputs": [
    {
     "data": {
      "image/png": "[encoded data removed]",
      "text/plain": [
       "<Figure size 432x288 with 1 Axes>"
      ]
     },
     "metadata": {
      "needs_background": "light"
     },
     "output_type": "display_data"
    }
   ],
   "source": [
    "nosub_data.hist('distance', bins=50)\n",
    "plt.xlabel('Пользователи')\n",
    "plt.ylabel('Частота')\n",
    "plt.title('Расстояние пользователя без подписки')\n",
    "plt.show()"
   ]
  },
  {
   "cell_type": "markdown",
   "id": "5bbda9a0",
   "metadata": {},
   "source": [
    "**Вывод:**\n",
    "Без подписки: \n",
    "- по времени пользования - от 13 до 21 мин.\n",
    "- по расстоянию - от 2 до 4 км. Пик при этом на 2.5-х км.\n",
    "Можно сделать вывод, что с подпиской пользователи проезжают большее расстояние."
   ]
  },
  {
   "cell_type": "markdown",
   "id": "402d620f",
   "metadata": {},
   "source": [
    "# Шаг 5. Подсчёт выручки"
   ]
  },
  {
   "cell_type": "code",
   "execution_count": 91,
   "id": "53049e0a",
   "metadata": {},
   "outputs": [
    {
     "name": "stdout",
     "output_type": "stream",
     "text": [
      "           distance  duration  date subscription_type\n",
      "0       7027.511294        42     2             ultra\n",
      "1        754.159807         7     1             ultra\n",
      "2       6723.470560        46     2             ultra\n",
      "3       5809.911100        32     2             ultra\n",
      "4       7003.499363        56     3             ultra\n",
      "...             ...       ...   ...               ...\n",
      "11326   3409.468534        26     2              free\n",
      "11327   7622.453034        48     2              free\n",
      "11328   4928.173852        23     1              free\n",
      "11329  13350.015305        78     4              free\n",
      "11330   2371.711192        16     1              free\n",
      "\n",
      "[11331 rows x 4 columns]\n"
     ]
    }
   ],
   "source": [
    "agg_data = data4.groupby(['user_id', 'month_number']).agg({\n",
    "'distance': 'sum',\n",
    "'duration': 'sum',\n",
    "'date': 'count', # Используем столбец 'date' для подсчета количества поездок\n",
    "'subscription_type': 'min'\n",
    "}).reset_index(drop=True)\n",
    "print (agg_data)"
   ]
  },
  {
   "cell_type": "code",
   "execution_count": 92,
   "id": "84293b86",
   "metadata": {},
   "outputs": [],
   "source": [
    "def revenue(row):\n",
    "    if row['subscription_type']=='ultra':\n",
    "        return 6 * row['duration'] + 199\n",
    "    elif row['subscription_type']== 'free':\n",
    "        return 8 * row['duration'] + 50 * row['date']\n",
    "    else:\n",
    "        print('no sub')"
   ]
  },
  {
   "cell_type": "code",
   "execution_count": 93,
   "id": "9b7df086",
   "metadata": {},
   "outputs": [],
   "source": [
    "agg_data['revenue'] = agg_data.apply(revenue, axis=1)"
   ]
  },
  {
   "cell_type": "code",
   "execution_count": 94,
   "id": "1239e7ac",
   "metadata": {},
   "outputs": [
    {
     "data": {
      "text/plain": [
       "8785       58\n",
       "10181      58\n",
       "6756       58\n",
       "7665       58\n",
       "9154       58\n",
       "         ... \n",
       "10071    1284\n",
       "10413    1342\n",
       "4661     1348\n",
       "7621     1382\n",
       "10791    1444\n",
       "Name: revenue, Length: 11331, dtype: int64"
      ]
     },
     "execution_count": 94,
     "metadata": {},
     "output_type": "execute_result"
    }
   ],
   "source": [
    "agg_data['revenue'].sort_values()"
   ]
  },
  {
   "cell_type": "markdown",
   "id": "69db1f3e",
   "metadata": {},
   "source": [
    "**Вывод: Сортировка показывает,что минимальное значение выручки - 58 рублей.\n",
    "При этом максимальное - почти 1.5 тыс. рублей.**"
   ]
  },
  {
   "cell_type": "markdown",
   "id": "41545ac0",
   "metadata": {},
   "source": [
    "# Шаг 6. Проверка гипотез"
   ]
  },
  {
   "cell_type": "markdown",
   "id": "9cf5df40",
   "metadata": {},
   "source": [
    "**6.1** Важно понять, тратят ли пользователи с подпиской больше времени на поездки? Если да, то пользователи с подпиской могут быть «выгоднее» для компании. Проверим гипотезу. Используем исходные данные о продолжительности каждой сессии — отдельно для подписчиков и тех, у кого нет подписки.\n",
    " \n",
    "H_0: Время (duration) пользователей на подписке ultra = время (duration) пользователей на подписке free\n",
    "\n",
    "H_1: Время (duration) пользователей на подписке ultra > время (duration) пользователей на подписке free\n",
    "\n",
    "alpha = 0.05"
   ]
  },
  {
   "cell_type": "code",
   "execution_count": 95,
   "id": "6216d049",
   "metadata": {},
   "outputs": [
    {
     "name": "stdout",
     "output_type": "stream",
     "text": [
      "p-значение: 2.4959453720736625e-34\n",
      "Отвергаем нулевую гипотезу\n"
     ]
    }
   ],
   "source": [
    "sub = sub_data ['duration']\n",
    "nosub = nosub_data ['duration']\n",
    "\n",
    "alpha = 0.05 \n",
    "results = st.ttest_ind(sub, nosub, alternative = 'greater')\n",
    "\n",
    "print('p-значение:', results.pvalue)\n",
    "\n",
    "if results.pvalue < alpha:\n",
    "    print('Отвергаем нулевую гипотезу')\n",
    "else:\n",
    "    print('Не получилось отвергнуть нулевую гипотезу') "
   ]
  },
  {
   "cell_type": "markdown",
   "id": "f0d810c2",
   "metadata": {},
   "source": [
    "**Вывод: время поездки пользователей на тарифе ultra не равно времени поездки пользователей на тарифе free. Нулевую гипотезу отвергли.**"
   ]
  },
  {
   "cell_type": "markdown",
   "id": "a9c8f059",
   "metadata": {},
   "source": [
    "**6.2** Расстояние одной поездки в \n",
    " 3130 метров — оптимальное с точки зрения износа самоката. Можно ли сказать, что расстояние, которое проезжают пользователи с подпиской за одну поездку, не превышает \n",
    "3130 метров? Проверим гипотезу и сделаем выводы."
   ]
  },
  {
   "cell_type": "markdown",
   "id": "913ac71d",
   "metadata": {},
   "source": [
    "H_0: Расстояние (distance) пользователей на подписке ultra = 3130 метров\n",
    "\n",
    "H_1: Расстояние (distance) пользователей на подписке ultra < 3130 метров\n",
    "\n",
    "alpha = 0.05"
   ]
  },
  {
   "cell_type": "code",
   "execution_count": 96,
   "id": "98ff5b90",
   "metadata": {},
   "outputs": [
    {
     "name": "stdout",
     "output_type": "stream",
     "text": [
      "p-значение: 0.08046311521502146\n",
      "Не получилось отвергнуть нулевую гипотезу\n"
     ]
    }
   ],
   "source": [
    "sub = sub_data ['distance']\n",
    "optimal_value = 3130\n",
    "\n",
    "alpha = 0.05 \n",
    "results = st.ttest_1samp(sub, optimal_value, alternative = 'less')\n",
    "\n",
    "print('p-значение:', results.pvalue)\n",
    "\n",
    "if results.pvalue < alpha:\n",
    "    print('Отвергаем нулевую гипотезу')\n",
    "else:\n",
    "    print('Не получилось отвергнуть нулевую гипотезу') "
   ]
  },
  {
   "cell_type": "markdown",
   "id": "6486d3d9",
   "metadata": {},
   "source": [
    "**Вывод: после проверки гипотезы нельзя сказать, что расстояние, которое проезжают пользователи с подпиской за одну поездку, не превышает 3130 метров.**"
   ]
  },
  {
   "cell_type": "markdown",
   "id": "631224c9",
   "metadata": {},
   "source": [
    "**6.3.**Проверим гипотезу о том, будет ли помесячная выручка от пользователей с подпиской по месяцам выше, чем выручка от пользователей без подписки. Сделаем вывод."
   ]
  },
  {
   "cell_type": "markdown",
   "id": "3d3015de",
   "metadata": {},
   "source": [
    "H_0: Выручка (revenue) пользователей на подписке ultra = Выручка (revenue) пользователей без подписки Ultra\n",
    "\n",
    "H_0: Выручка (revenue) пользователей на подписке ultra > Выручка (revenue) пользователей без подписки Ultra\n",
    "\n",
    "alpha = 0.05"
   ]
  },
  {
   "cell_type": "code",
   "execution_count": 97,
   "id": "30c5ad53",
   "metadata": {},
   "outputs": [
    {
     "name": "stdout",
     "output_type": "stream",
     "text": [
      "p-значение: 1.8850394384715216e-31\n",
      "Отвергаем нулевую гипотезу\n"
     ]
    }
   ],
   "source": [
    "sub = agg_data.loc[agg_data ['subscription_type'] == 'ultra', 'revenue']\n",
    "nosub = agg_data.loc[agg_data ['subscription_type'] == 'free', 'revenue']\n",
    "\n",
    "alpha = 0.05 \n",
    "results = st.ttest_ind(sub, nosub)\n",
    "\n",
    "print('p-значение:', results.pvalue)\n",
    "\n",
    "if results.pvalue < alpha:\n",
    "    print('Отвергаем нулевую гипотезу')\n",
    "else:\n",
    "    print('Не получилось отвергнуть нулевую гипотезу') "
   ]
  },
  {
   "cell_type": "markdown",
   "id": "23153c77",
   "metadata": {},
   "source": [
    "**Вывод: отвергаем гипотезу: будет ли помесячная выручка от пользователей с подпиской по месяцам выше, чем выручка от пользователей без подписки**"
   ]
  },
  {
   "cell_type": "markdown",
   "id": "2c85b278",
   "metadata": {},
   "source": [
    "**6.4.** Представьте такую ситуацию: техническая команда сервиса обновила сервера, с которыми взаимодействует мобильное приложение. Она надеется, что из-за этого количество обращений в техподдержку значимо снизилось. Некоторый файл содержит для каждого пользователя данные о количестве обращений до обновления и после него. Какой тест вам понадобился бы для проверки этой гипотезы?\n",
    "\n",
    "**Ответ:** Подойдет парный t-тест (t-тест для зависимых выборок) для проверки гипотезы о равенстве средних.\n",
    "\n",
    "**Гипотезы:**\n",
    "- H0 : μ1 = μ2\n",
    "- H1 : μ1 != μ2  \n",
    "где μ1 и μ2 - средние значения количество обращений в техподдержку до и после изменения.\n",
    "\n",
    "**Метод: scipy.stats.ttest_rel()**"
   ]
  },
  {
   "cell_type": "markdown",
   "id": "61213c5e",
   "metadata": {},
   "source": [
    "# Общий вывод"
   ]
  },
  {
   "cell_type": "markdown",
   "id": "d58d7ed9",
   "metadata": {},
   "source": [
    "## Предобработка данных\n",
    "*В рамках предобработки данных были произведены следующие операции*: \n",
    "- изменение типов данных;\n",
    "- обработка дупликатов;  \n",
    "## Проведение исследовательского анализа данных\n",
    "- Пятигорск занимает первое место среди всех городов по частоте встречаемости, скорей всего именно с этого города GoFast начал свою деятельность. Москва при этом гораздо менее популярна, возможно в Москве компания относительно недавно начала распространять самокаты\n",
    "- Пользователей без подписки больше пользователей с подпиской, при этом сама разница не значительная. Это показывает то, что почти половина пользователей переходят на платную подписку. Неплохо работает или реклама, или условия пользования подпиской, или все вместе.\n",
    "- Наибольший удельный вес имеют пользователи в возрасте от 19 до 26 лет.\n",
    "На эту аудиторию и стоит ориентироваться при планировании стратегии компании.\n",
    "- Большинство пользователей проежает расстояние от 2.5-3.5 км.\n",
    "- Большинство пользователей пользуется приложением от 15-23 мин.  \n",
    "## Объединение данных\n",
    "С подпиской:\n",
    "- по времени пользования - от 15 до 23 мин. Пик на 18 мин.\n",
    "- по расстоянию - от 2.5 до 4 км. Пик при этом на 3-х км.\n",
    "Без подписки:\n",
    "- по времени пользования - от 13 до 21 мин.\n",
    "- по расстоянию - от 2 до 4 км. Пик при этом на 2.5-х км.\n",
    "Можно сделать вывод, что с подпиской пользователи проезжают большее расстояние.  \n",
    "## Расчет выручки\n",
    "Сортировка показывает,что минимальное значение выручки - 58 рублей. При этом максимальное - почти 1.5 тыс. рублей.  \n",
    "## Проверка гипотез\n",
    "- время поездки пользователей на тарифе ultra не равно времени поездки пользователей на тарифе free. Нулевую гипотезу отвергли.\n",
    "- после проверки гипотезы нельзя сказать, что расстояние, которое проезжают пользователи с подпиской за одну поездку, не превышает 3130 метров.\n",
    "- отвергаем гипотезу: будет ли помесячная выручка от пользователей с подпиской по месяцам выше, чем выручка от пользователей без подписки\n",
    "- Подойдет парный t-тест (t-тест для зависимых выборок) для проверки гипотезы о равенстве средних."
   ]
  }
 ],
 "metadata": {
  "ExecuteTimeLog": [
   {
    "duration": 477,
    "start_time": "2023-06-26T19:14:09.327Z"
   },
   {
    "duration": 134,
    "start_time": "2023-06-26T19:14:11.313Z"
   },
   {
    "duration": 11,
    "start_time": "2023-06-26T19:14:20.429Z"
   },
   {
    "duration": 3,
    "start_time": "2023-06-26T19:14:25.942Z"
   },
   {
    "duration": 89,
    "start_time": "2023-06-26T19:14:25.947Z"
   },
   {
    "duration": 0,
    "start_time": "2023-06-26T19:14:26.037Z"
   },
   {
    "duration": 6,
    "start_time": "2023-06-26T19:19:15.068Z"
   },
   {
    "duration": 263,
    "start_time": "2023-06-26T19:19:16.811Z"
   },
   {
    "duration": 17,
    "start_time": "2023-06-26T19:19:17.999Z"
   },
   {
    "duration": 30,
    "start_time": "2023-06-26T19:19:24.946Z"
   },
   {
    "duration": 3,
    "start_time": "2023-06-26T19:20:44.119Z"
   },
   {
    "duration": 33,
    "start_time": "2023-06-26T19:20:45.657Z"
   },
   {
    "duration": 48,
    "start_time": "2023-06-26T19:20:47.219Z"
   },
   {
    "duration": 31,
    "start_time": "2023-06-26T19:20:48.730Z"
   },
   {
    "duration": 47,
    "start_time": "2023-06-26T19:23:33.222Z"
   },
   {
    "duration": 3,
    "start_time": "2023-06-26T19:24:03.915Z"
   },
   {
    "duration": 34,
    "start_time": "2023-06-26T19:24:05.196Z"
   },
   {
    "duration": 47,
    "start_time": "2023-06-26T19:24:06.853Z"
   },
   {
    "duration": 34,
    "start_time": "2023-06-26T19:24:09.503Z"
   },
   {
    "duration": 13,
    "start_time": "2023-06-26T19:27:04.620Z"
   },
   {
    "duration": 12,
    "start_time": "2023-06-26T19:27:21.817Z"
   },
   {
    "duration": 11,
    "start_time": "2023-06-26T19:28:03.637Z"
   },
   {
    "duration": 2,
    "start_time": "2023-06-26T19:30:21.924Z"
   },
   {
    "duration": 58,
    "start_time": "2023-06-26T19:30:21.931Z"
   },
   {
    "duration": 10,
    "start_time": "2023-06-26T19:30:21.991Z"
   },
   {
    "duration": 63,
    "start_time": "2023-06-26T19:30:22.003Z"
   },
   {
    "duration": 15,
    "start_time": "2023-06-26T19:30:22.069Z"
   },
   {
    "duration": 39,
    "start_time": "2023-06-26T19:30:22.086Z"
   },
   {
    "duration": 9,
    "start_time": "2023-06-26T19:34:01.824Z"
   },
   {
    "duration": 13,
    "start_time": "2023-06-26T19:34:18.724Z"
   },
   {
    "duration": 6,
    "start_time": "2023-06-26T19:39:25.042Z"
   },
   {
    "duration": 11,
    "start_time": "2023-06-26T19:39:42.727Z"
   },
   {
    "duration": 6,
    "start_time": "2023-06-26T19:43:35.595Z"
   },
   {
    "duration": 8,
    "start_time": "2023-06-26T19:43:48.311Z"
   },
   {
    "duration": 8,
    "start_time": "2023-06-26T19:43:58.340Z"
   },
   {
    "duration": 8,
    "start_time": "2023-06-26T19:45:06.648Z"
   },
   {
    "duration": 9,
    "start_time": "2023-06-26T19:45:46.107Z"
   },
   {
    "duration": 5,
    "start_time": "2023-06-26T19:46:02.111Z"
   },
   {
    "duration": 51,
    "start_time": "2023-06-27T12:52:55.341Z"
   },
   {
    "duration": 405,
    "start_time": "2023-06-27T12:53:00.042Z"
   },
   {
    "duration": 93,
    "start_time": "2023-06-27T12:53:00.450Z"
   },
   {
    "duration": 15,
    "start_time": "2023-06-27T12:53:00.545Z"
   },
   {
    "duration": 123,
    "start_time": "2023-06-27T12:53:00.562Z"
   },
   {
    "duration": 14,
    "start_time": "2023-06-27T12:53:00.688Z"
   },
   {
    "duration": 111,
    "start_time": "2023-06-27T12:53:00.703Z"
   },
   {
    "duration": 12,
    "start_time": "2023-06-27T12:53:00.816Z"
   },
   {
    "duration": 69,
    "start_time": "2023-06-27T12:53:00.830Z"
   },
   {
    "duration": 56,
    "start_time": "2023-06-27T12:53:00.901Z"
   },
   {
    "duration": 42,
    "start_time": "2023-06-27T12:53:00.959Z"
   },
   {
    "duration": 57,
    "start_time": "2023-06-27T12:53:01.003Z"
   },
   {
    "duration": 32,
    "start_time": "2023-06-27T12:53:01.062Z"
   },
   {
    "duration": 56,
    "start_time": "2023-06-27T12:53:01.096Z"
   },
   {
    "duration": 59,
    "start_time": "2023-06-27T12:53:01.155Z"
   },
   {
    "duration": 56,
    "start_time": "2023-06-27T12:53:01.216Z"
   },
   {
    "duration": 44,
    "start_time": "2023-06-27T12:53:01.274Z"
   },
   {
    "duration": 6,
    "start_time": "2023-06-27T12:53:47.024Z"
   },
   {
    "duration": 30,
    "start_time": "2023-06-27T12:58:02.149Z"
   },
   {
    "duration": 6,
    "start_time": "2023-06-27T12:58:10.722Z"
   },
   {
    "duration": 8,
    "start_time": "2023-06-27T12:58:21.941Z"
   },
   {
    "duration": 511,
    "start_time": "2023-06-27T13:01:15.519Z"
   },
   {
    "duration": 18,
    "start_time": "2023-06-27T13:01:35.272Z"
   },
   {
    "duration": 371,
    "start_time": "2023-06-27T13:03:37.214Z"
   },
   {
    "duration": 178,
    "start_time": "2023-06-27T13:04:09.123Z"
   },
   {
    "duration": 171,
    "start_time": "2023-06-27T13:07:06.620Z"
   },
   {
    "duration": 5,
    "start_time": "2023-06-27T13:09:45.223Z"
   },
   {
    "duration": 17,
    "start_time": "2023-06-27T13:10:02.293Z"
   },
   {
    "duration": 11,
    "start_time": "2023-06-27T13:14:19.751Z"
   },
   {
    "duration": 4,
    "start_time": "2023-06-27T13:14:31.910Z"
   },
   {
    "duration": 55,
    "start_time": "2023-06-27T13:14:31.916Z"
   },
   {
    "duration": 16,
    "start_time": "2023-06-27T13:14:31.974Z"
   },
   {
    "duration": 62,
    "start_time": "2023-06-27T13:14:31.992Z"
   },
   {
    "duration": 94,
    "start_time": "2023-06-27T13:14:32.057Z"
   },
   {
    "duration": 22,
    "start_time": "2023-06-27T13:14:32.153Z"
   },
   {
    "duration": 20,
    "start_time": "2023-06-27T13:14:32.177Z"
   },
   {
    "duration": 56,
    "start_time": "2023-06-27T13:14:32.199Z"
   },
   {
    "duration": 25,
    "start_time": "2023-06-27T13:14:32.258Z"
   },
   {
    "duration": 56,
    "start_time": "2023-06-27T13:14:32.285Z"
   },
   {
    "duration": 51,
    "start_time": "2023-06-27T13:14:32.344Z"
   },
   {
    "duration": 72,
    "start_time": "2023-06-27T13:14:32.397Z"
   },
   {
    "duration": 39,
    "start_time": "2023-06-27T13:14:32.472Z"
   },
   {
    "duration": 85,
    "start_time": "2023-06-27T13:14:32.514Z"
   },
   {
    "duration": 50,
    "start_time": "2023-06-27T13:14:32.601Z"
   },
   {
    "duration": 30,
    "start_time": "2023-06-27T13:14:32.653Z"
   },
   {
    "duration": 184,
    "start_time": "2023-06-27T13:14:32.686Z"
   },
   {
    "duration": 162,
    "start_time": "2023-06-27T13:14:32.873Z"
   },
   {
    "duration": 12,
    "start_time": "2023-06-27T13:14:33.037Z"
   },
   {
    "duration": 10,
    "start_time": "2023-06-27T13:15:06.052Z"
   },
   {
    "duration": 2000,
    "start_time": "2023-06-27T13:17:18.907Z"
   },
   {
    "duration": 1841,
    "start_time": "2023-06-27T13:19:43.042Z"
   },
   {
    "duration": 3327,
    "start_time": "2023-06-27T13:20:03.230Z"
   },
   {
    "duration": 5,
    "start_time": "2023-06-27T13:21:50.307Z"
   },
   {
    "duration": 4,
    "start_time": "2023-06-27T13:21:57.253Z"
   },
   {
    "duration": 7,
    "start_time": "2023-06-27T13:22:18.022Z"
   },
   {
    "duration": 8,
    "start_time": "2023-06-27T13:22:49.023Z"
   },
   {
    "duration": 4,
    "start_time": "2023-06-27T13:39:45.943Z"
   },
   {
    "duration": 10,
    "start_time": "2023-06-27T13:47:01.642Z"
   },
   {
    "duration": 6,
    "start_time": "2023-06-27T13:47:36.804Z"
   },
   {
    "duration": 16,
    "start_time": "2023-06-27T13:47:54.511Z"
   },
   {
    "duration": 39,
    "start_time": "2023-06-27T13:48:19.012Z"
   },
   {
    "duration": 4,
    "start_time": "2023-06-27T13:49:15.808Z"
   },
   {
    "duration": 6,
    "start_time": "2023-06-27T13:49:16.803Z"
   },
   {
    "duration": 11,
    "start_time": "2023-06-27T13:49:17.422Z"
   },
   {
    "duration": 15,
    "start_time": "2023-06-27T13:52:18.718Z"
   },
   {
    "duration": 15,
    "start_time": "2023-06-27T13:52:28.427Z"
   },
   {
    "duration": 137,
    "start_time": "2023-06-27T13:52:55.058Z"
   },
   {
    "duration": 12,
    "start_time": "2023-06-27T14:50:40.426Z"
   },
   {
    "duration": 11,
    "start_time": "2023-06-27T14:50:54.124Z"
   },
   {
    "duration": 396,
    "start_time": "2023-06-28T17:41:45.262Z"
   },
   {
    "duration": 96,
    "start_time": "2023-06-28T17:41:45.660Z"
   },
   {
    "duration": 14,
    "start_time": "2023-06-28T17:41:45.759Z"
   },
   {
    "duration": 116,
    "start_time": "2023-06-28T17:41:45.776Z"
   },
   {
    "duration": 14,
    "start_time": "2023-06-28T17:41:45.894Z"
   },
   {
    "duration": 70,
    "start_time": "2023-06-28T17:41:45.912Z"
   },
   {
    "duration": 8,
    "start_time": "2023-06-28T17:41:45.984Z"
   },
   {
    "duration": 18,
    "start_time": "2023-06-28T17:41:45.994Z"
   },
   {
    "duration": 10,
    "start_time": "2023-06-28T17:41:46.013Z"
   },
   {
    "duration": 20,
    "start_time": "2023-06-28T17:41:46.026Z"
   },
   {
    "duration": 35,
    "start_time": "2023-06-28T17:41:46.048Z"
   },
   {
    "duration": 29,
    "start_time": "2023-06-28T17:41:46.085Z"
   },
   {
    "duration": 24,
    "start_time": "2023-06-28T17:41:46.116Z"
   },
   {
    "duration": 14,
    "start_time": "2023-06-28T17:41:46.141Z"
   },
   {
    "duration": 16,
    "start_time": "2023-06-28T17:41:46.157Z"
   },
   {
    "duration": 13,
    "start_time": "2023-06-28T17:41:46.175Z"
   },
   {
    "duration": 623,
    "start_time": "2023-06-28T17:41:46.190Z"
   },
   {
    "duration": 137,
    "start_time": "2023-06-28T17:41:46.815Z"
   },
   {
    "duration": 6,
    "start_time": "2023-06-28T17:41:46.954Z"
   },
   {
    "duration": 18,
    "start_time": "2023-06-28T17:41:46.962Z"
   },
   {
    "duration": 20,
    "start_time": "2023-06-28T17:41:46.982Z"
   },
   {
    "duration": 24,
    "start_time": "2023-06-28T17:41:47.004Z"
   },
   {
    "duration": 135,
    "start_time": "2023-06-28T17:41:47.030Z"
   },
   {
    "duration": 326978,
    "start_time": "2023-06-28T17:52:27.312Z"
   },
   {
    "duration": 51,
    "start_time": "2023-06-28T19:09:10.416Z"
   },
   {
    "duration": 460,
    "start_time": "2023-06-28T19:09:25.939Z"
   },
   {
    "duration": 97,
    "start_time": "2023-06-28T19:09:26.401Z"
   },
   {
    "duration": 13,
    "start_time": "2023-06-28T19:09:26.500Z"
   },
   {
    "duration": 80,
    "start_time": "2023-06-28T19:09:26.515Z"
   },
   {
    "duration": 12,
    "start_time": "2023-06-28T19:09:26.597Z"
   },
   {
    "duration": 64,
    "start_time": "2023-06-28T19:09:26.610Z"
   },
   {
    "duration": 8,
    "start_time": "2023-06-28T19:09:26.675Z"
   },
   {
    "duration": 14,
    "start_time": "2023-06-28T19:09:26.684Z"
   },
   {
    "duration": 4,
    "start_time": "2023-06-28T19:09:26.700Z"
   },
   {
    "duration": 10,
    "start_time": "2023-06-28T19:09:26.709Z"
   },
   {
    "duration": 10,
    "start_time": "2023-06-28T19:09:26.721Z"
   },
   {
    "duration": 8,
    "start_time": "2023-06-28T19:09:26.732Z"
   },
   {
    "duration": 6,
    "start_time": "2023-06-28T19:09:26.742Z"
   },
   {
    "duration": 6,
    "start_time": "2023-06-28T19:09:26.750Z"
   },
   {
    "duration": 7,
    "start_time": "2023-06-28T19:09:26.757Z"
   },
   {
    "duration": 44,
    "start_time": "2023-06-28T19:09:26.766Z"
   },
   {
    "duration": 443,
    "start_time": "2023-06-28T19:09:26.812Z"
   },
   {
    "duration": 141,
    "start_time": "2023-06-28T19:09:27.257Z"
   },
   {
    "duration": 6,
    "start_time": "2023-06-28T19:09:27.408Z"
   },
   {
    "duration": 9,
    "start_time": "2023-06-28T19:09:27.416Z"
   },
   {
    "duration": 13,
    "start_time": "2023-06-28T19:09:27.427Z"
   },
   {
    "duration": 23,
    "start_time": "2023-06-28T19:09:27.441Z"
   },
   {
    "duration": 135,
    "start_time": "2023-06-28T19:09:27.466Z"
   },
   {
    "duration": 447,
    "start_time": "2023-06-28T19:30:49.895Z"
   },
   {
    "duration": 47,
    "start_time": "2023-06-28T19:30:50.344Z"
   },
   {
    "duration": 17,
    "start_time": "2023-06-28T19:30:50.393Z"
   },
   {
    "duration": 44,
    "start_time": "2023-06-28T19:30:50.412Z"
   },
   {
    "duration": 13,
    "start_time": "2023-06-28T19:30:50.459Z"
   },
   {
    "duration": 23,
    "start_time": "2023-06-28T19:30:50.474Z"
   },
   {
    "duration": 18,
    "start_time": "2023-06-28T19:30:50.499Z"
   },
   {
    "duration": 26,
    "start_time": "2023-06-28T19:30:50.518Z"
   },
   {
    "duration": 11,
    "start_time": "2023-06-28T19:30:50.546Z"
   },
   {
    "duration": 14,
    "start_time": "2023-06-28T19:30:50.559Z"
   },
   {
    "duration": 23,
    "start_time": "2023-06-28T19:30:50.575Z"
   },
   {
    "duration": 15,
    "start_time": "2023-06-28T19:30:50.600Z"
   },
   {
    "duration": 20,
    "start_time": "2023-06-28T19:30:50.617Z"
   },
   {
    "duration": 6,
    "start_time": "2023-06-28T19:30:50.642Z"
   },
   {
    "duration": 22,
    "start_time": "2023-06-28T19:30:50.650Z"
   },
   {
    "duration": 23,
    "start_time": "2023-06-28T19:30:50.675Z"
   },
   {
    "duration": 455,
    "start_time": "2023-06-28T19:30:50.700Z"
   },
   {
    "duration": 139,
    "start_time": "2023-06-28T19:30:51.157Z"
   },
   {
    "duration": 7,
    "start_time": "2023-06-28T19:30:51.308Z"
   },
   {
    "duration": 8,
    "start_time": "2023-06-28T19:30:51.318Z"
   },
   {
    "duration": 7,
    "start_time": "2023-06-28T19:30:51.328Z"
   },
   {
    "duration": 17,
    "start_time": "2023-06-28T19:30:51.337Z"
   },
   {
    "duration": 162,
    "start_time": "2023-06-28T19:30:51.356Z"
   },
   {
    "duration": 357,
    "start_time": "2023-06-29T09:47:17.312Z"
   },
   {
    "duration": 106,
    "start_time": "2023-06-29T09:47:17.683Z"
   },
   {
    "duration": 10,
    "start_time": "2023-06-29T09:47:17.791Z"
   },
   {
    "duration": 152,
    "start_time": "2023-06-29T09:47:17.803Z"
   },
   {
    "duration": 10,
    "start_time": "2023-06-29T09:47:17.957Z"
   },
   {
    "duration": 70,
    "start_time": "2023-06-29T09:47:17.976Z"
   },
   {
    "duration": 7,
    "start_time": "2023-06-29T09:47:18.048Z"
   },
   {
    "duration": 14,
    "start_time": "2023-06-29T09:47:18.057Z"
   },
   {
    "duration": 6,
    "start_time": "2023-06-29T09:47:18.079Z"
   },
   {
    "duration": 10,
    "start_time": "2023-06-29T09:47:18.090Z"
   },
   {
    "duration": 22,
    "start_time": "2023-06-29T09:47:18.101Z"
   },
   {
    "duration": 7,
    "start_time": "2023-06-29T09:47:18.125Z"
   },
   {
    "duration": 11,
    "start_time": "2023-06-29T09:47:18.133Z"
   },
   {
    "duration": 5,
    "start_time": "2023-06-29T09:47:18.146Z"
   },
   {
    "duration": 8,
    "start_time": "2023-06-29T09:47:18.153Z"
   },
   {
    "duration": 20,
    "start_time": "2023-06-29T09:47:18.163Z"
   },
   {
    "duration": 590,
    "start_time": "2023-06-29T09:47:18.185Z"
   },
   {
    "duration": 114,
    "start_time": "2023-06-29T09:47:18.779Z"
   },
   {
    "duration": 5,
    "start_time": "2023-06-29T09:47:18.894Z"
   },
   {
    "duration": 12,
    "start_time": "2023-06-29T09:47:18.900Z"
   },
   {
    "duration": 8,
    "start_time": "2023-06-29T09:47:18.913Z"
   },
   {
    "duration": 21,
    "start_time": "2023-06-29T09:47:18.922Z"
   },
   {
    "duration": 117,
    "start_time": "2023-06-29T09:47:18.944Z"
   },
   {
    "duration": 414,
    "start_time": "2023-06-29T09:47:48.885Z"
   },
   {
    "duration": 41,
    "start_time": "2023-06-29T09:47:49.301Z"
   },
   {
    "duration": 10,
    "start_time": "2023-06-29T09:47:49.344Z"
   },
   {
    "duration": 44,
    "start_time": "2023-06-29T09:47:49.357Z"
   },
   {
    "duration": 11,
    "start_time": "2023-06-29T09:47:49.402Z"
   },
   {
    "duration": 22,
    "start_time": "2023-06-29T09:47:49.414Z"
   },
   {
    "duration": 7,
    "start_time": "2023-06-29T09:47:49.437Z"
   },
   {
    "duration": 14,
    "start_time": "2023-06-29T09:47:49.446Z"
   },
   {
    "duration": 4,
    "start_time": "2023-06-29T09:47:49.462Z"
   },
   {
    "duration": 12,
    "start_time": "2023-06-29T09:47:49.473Z"
   },
   {
    "duration": 7,
    "start_time": "2023-06-29T09:47:49.492Z"
   },
   {
    "duration": 7,
    "start_time": "2023-06-29T09:47:49.500Z"
   },
   {
    "duration": 7,
    "start_time": "2023-06-29T09:47:49.508Z"
   },
   {
    "duration": 5,
    "start_time": "2023-06-29T09:47:49.517Z"
   },
   {
    "duration": 7,
    "start_time": "2023-06-29T09:47:49.524Z"
   },
   {
    "duration": 8,
    "start_time": "2023-06-29T09:47:49.533Z"
   },
   {
    "duration": 482,
    "start_time": "2023-06-29T09:47:49.570Z"
   },
   {
    "duration": 144,
    "start_time": "2023-06-29T09:47:50.054Z"
   },
   {
    "duration": 6,
    "start_time": "2023-06-29T09:47:50.201Z"
   },
   {
    "duration": 11,
    "start_time": "2023-06-29T09:47:50.209Z"
   },
   {
    "duration": 8,
    "start_time": "2023-06-29T09:47:50.221Z"
   },
   {
    "duration": 11,
    "start_time": "2023-06-29T09:47:50.231Z"
   },
   {
    "duration": 142,
    "start_time": "2023-06-29T09:47:50.244Z"
   },
   {
    "duration": 308970,
    "start_time": "2023-06-29T09:47:50.394Z"
   },
   {
    "duration": 299532,
    "start_time": "2023-06-29T09:52:59.367Z"
   },
   {
    "duration": 23,
    "start_time": "2023-06-29T09:57:58.900Z"
   },
   {
    "duration": 20037,
    "start_time": "2023-06-29T10:06:56.527Z"
   },
   {
    "duration": 17621,
    "start_time": "2023-06-29T10:07:33.024Z"
   },
   {
    "duration": 15,
    "start_time": "2023-06-29T10:46:04.589Z"
   },
   {
    "duration": 13,
    "start_time": "2023-06-29T10:50:38.630Z"
   },
   {
    "duration": 4,
    "start_time": "2023-06-29T10:51:33.850Z"
   },
   {
    "duration": 49,
    "start_time": "2023-06-29T10:51:33.857Z"
   },
   {
    "duration": 15,
    "start_time": "2023-06-29T10:51:33.909Z"
   },
   {
    "duration": 53,
    "start_time": "2023-06-29T10:51:33.926Z"
   },
   {
    "duration": 20,
    "start_time": "2023-06-29T10:51:33.981Z"
   },
   {
    "duration": 50,
    "start_time": "2023-06-29T10:51:34.002Z"
   },
   {
    "duration": 8,
    "start_time": "2023-06-29T10:51:34.054Z"
   },
   {
    "duration": 30,
    "start_time": "2023-06-29T10:51:34.064Z"
   },
   {
    "duration": 7,
    "start_time": "2023-06-29T10:51:34.100Z"
   },
   {
    "duration": 11,
    "start_time": "2023-06-29T10:51:34.110Z"
   },
   {
    "duration": 8,
    "start_time": "2023-06-29T10:51:34.125Z"
   },
   {
    "duration": 8,
    "start_time": "2023-06-29T10:51:34.135Z"
   },
   {
    "duration": 22,
    "start_time": "2023-06-29T10:51:34.146Z"
   },
   {
    "duration": 9,
    "start_time": "2023-06-29T10:51:34.170Z"
   },
   {
    "duration": 16,
    "start_time": "2023-06-29T10:51:34.182Z"
   },
   {
    "duration": 14,
    "start_time": "2023-06-29T10:51:34.200Z"
   },
   {
    "duration": 220,
    "start_time": "2023-06-29T10:51:34.216Z"
   },
   {
    "duration": 187,
    "start_time": "2023-06-29T10:51:34.438Z"
   },
   {
    "duration": 7,
    "start_time": "2023-06-29T10:51:34.627Z"
   },
   {
    "duration": 6,
    "start_time": "2023-06-29T10:51:34.635Z"
   },
   {
    "duration": 32,
    "start_time": "2023-06-29T10:51:34.643Z"
   },
   {
    "duration": 14,
    "start_time": "2023-06-29T10:51:34.684Z"
   },
   {
    "duration": 166,
    "start_time": "2023-06-29T10:51:34.700Z"
   },
   {
    "duration": 21085,
    "start_time": "2023-06-29T10:51:34.868Z"
   },
   {
    "duration": 19559,
    "start_time": "2023-06-29T10:51:55.955Z"
   },
   {
    "duration": 11,
    "start_time": "2023-06-29T10:52:15.516Z"
   },
   {
    "duration": 12,
    "start_time": "2023-06-29T10:52:15.530Z"
   },
   {
    "duration": 13,
    "start_time": "2023-06-29T11:01:09.938Z"
   },
   {
    "duration": 3,
    "start_time": "2023-06-29T11:02:06.987Z"
   },
   {
    "duration": 40,
    "start_time": "2023-06-29T11:02:06.999Z"
   },
   {
    "duration": 19,
    "start_time": "2023-06-29T11:02:07.041Z"
   },
   {
    "duration": 50,
    "start_time": "2023-06-29T11:02:07.062Z"
   },
   {
    "duration": 15,
    "start_time": "2023-06-29T11:02:07.115Z"
   },
   {
    "duration": 37,
    "start_time": "2023-06-29T11:02:07.131Z"
   },
   {
    "duration": 10,
    "start_time": "2023-06-29T11:02:07.169Z"
   },
   {
    "duration": 14,
    "start_time": "2023-06-29T11:02:07.184Z"
   },
   {
    "duration": 5,
    "start_time": "2023-06-29T11:02:07.199Z"
   },
   {
    "duration": 10,
    "start_time": "2023-06-29T11:02:07.207Z"
   },
   {
    "duration": 19,
    "start_time": "2023-06-29T11:02:07.220Z"
   },
   {
    "duration": 34,
    "start_time": "2023-06-29T11:02:07.241Z"
   },
   {
    "duration": 8,
    "start_time": "2023-06-29T11:02:07.278Z"
   },
   {
    "duration": 10,
    "start_time": "2023-06-29T11:02:07.288Z"
   },
   {
    "duration": 8,
    "start_time": "2023-06-29T11:02:07.300Z"
   },
   {
    "duration": 18,
    "start_time": "2023-06-29T11:02:07.310Z"
   },
   {
    "duration": 163,
    "start_time": "2023-06-29T11:02:07.329Z"
   },
   {
    "duration": 133,
    "start_time": "2023-06-29T11:02:07.494Z"
   },
   {
    "duration": 5,
    "start_time": "2023-06-29T11:02:07.628Z"
   },
   {
    "duration": 4,
    "start_time": "2023-06-29T11:02:07.635Z"
   },
   {
    "duration": 7,
    "start_time": "2023-06-29T11:02:07.641Z"
   },
   {
    "duration": 22,
    "start_time": "2023-06-29T11:02:07.649Z"
   },
   {
    "duration": 137,
    "start_time": "2023-06-29T11:02:07.672Z"
   },
   {
    "duration": 20875,
    "start_time": "2023-06-29T11:02:07.813Z"
   },
   {
    "duration": 18295,
    "start_time": "2023-06-29T11:02:48.307Z"
   },
   {
    "duration": 11,
    "start_time": "2023-06-29T11:03:06.604Z"
   },
   {
    "duration": 12,
    "start_time": "2023-06-29T11:03:06.616Z"
   },
   {
    "duration": 6,
    "start_time": "2023-06-29T11:03:06.630Z"
   },
   {
    "duration": 377,
    "start_time": "2023-06-29T12:15:48.437Z"
   },
   {
    "duration": 112,
    "start_time": "2023-06-29T12:15:51.443Z"
   },
   {
    "duration": 10,
    "start_time": "2023-06-29T12:15:52.846Z"
   },
   {
    "duration": 91,
    "start_time": "2023-06-29T12:15:53.994Z"
   },
   {
    "duration": 10,
    "start_time": "2023-06-29T12:15:54.980Z"
   },
   {
    "duration": 91,
    "start_time": "2023-06-29T12:15:55.944Z"
   },
   {
    "duration": 17,
    "start_time": "2023-06-29T12:15:59.292Z"
   },
   {
    "duration": 10,
    "start_time": "2023-06-29T12:16:00.279Z"
   },
   {
    "duration": 4,
    "start_time": "2023-06-29T12:16:01.131Z"
   },
   {
    "duration": 10,
    "start_time": "2023-06-29T12:16:01.810Z"
   },
   {
    "duration": 7,
    "start_time": "2023-06-29T12:16:02.520Z"
   },
   {
    "duration": 6,
    "start_time": "2023-06-29T12:16:03.367Z"
   },
   {
    "duration": 5,
    "start_time": "2023-06-29T12:16:04.151Z"
   },
   {
    "duration": 7,
    "start_time": "2023-06-29T12:16:04.894Z"
   },
   {
    "duration": 5,
    "start_time": "2023-06-29T12:16:05.685Z"
   },
   {
    "duration": 7,
    "start_time": "2023-06-29T12:16:06.463Z"
   },
   {
    "duration": 641,
    "start_time": "2023-06-29T12:16:08.932Z"
   },
   {
    "duration": 108,
    "start_time": "2023-06-29T12:16:10.818Z"
   },
   {
    "duration": 7,
    "start_time": "2023-06-29T12:16:11.747Z"
   },
   {
    "duration": 12,
    "start_time": "2023-06-29T12:16:13.695Z"
   },
   {
    "duration": 4,
    "start_time": "2023-06-29T12:16:14.782Z"
   },
   {
    "duration": 8,
    "start_time": "2023-06-29T12:16:15.838Z"
   },
   {
    "duration": 101,
    "start_time": "2023-06-29T12:16:17.138Z"
   },
   {
    "duration": 15774,
    "start_time": "2023-06-29T12:16:19.253Z"
   },
   {
    "duration": 15410,
    "start_time": "2023-06-29T12:16:35.028Z"
   },
   {
    "duration": 10,
    "start_time": "2023-06-29T12:16:50.440Z"
   },
   {
    "duration": 32,
    "start_time": "2023-06-29T12:16:50.451Z"
   },
   {
    "duration": 71,
    "start_time": "2023-06-29T12:16:50.484Z"
   },
   {
    "duration": 217,
    "start_time": "2023-06-29T12:19:46.057Z"
   },
   {
    "duration": 192,
    "start_time": "2023-06-29T12:22:30.595Z"
   },
   {
    "duration": 11,
    "start_time": "2023-06-29T12:22:59.462Z"
   },
   {
    "duration": 9,
    "start_time": "2023-06-29T12:23:03.561Z"
   },
   {
    "duration": 6,
    "start_time": "2023-06-29T12:23:04.453Z"
   },
   {
    "duration": 384,
    "start_time": "2023-06-29T12:23:12.147Z"
   },
   {
    "duration": 44,
    "start_time": "2023-06-29T12:23:12.532Z"
   },
   {
    "duration": 10,
    "start_time": "2023-06-29T12:23:12.577Z"
   },
   {
    "duration": 56,
    "start_time": "2023-06-29T12:23:12.589Z"
   },
   {
    "duration": 13,
    "start_time": "2023-06-29T12:23:12.646Z"
   },
   {
    "duration": 27,
    "start_time": "2023-06-29T12:23:12.660Z"
   },
   {
    "duration": 9,
    "start_time": "2023-06-29T12:23:12.689Z"
   },
   {
    "duration": 30,
    "start_time": "2023-06-29T12:23:12.714Z"
   },
   {
    "duration": 15,
    "start_time": "2023-06-29T12:23:12.745Z"
   },
   {
    "duration": 13,
    "start_time": "2023-06-29T12:23:12.764Z"
   },
   {
    "duration": 38,
    "start_time": "2023-06-29T12:23:12.779Z"
   },
   {
    "duration": 14,
    "start_time": "2023-06-29T12:23:12.819Z"
   },
   {
    "duration": 7,
    "start_time": "2023-06-29T12:23:12.835Z"
   },
   {
    "duration": 14,
    "start_time": "2023-06-29T12:23:12.844Z"
   },
   {
    "duration": 13,
    "start_time": "2023-06-29T12:23:12.860Z"
   },
   {
    "duration": 18,
    "start_time": "2023-06-29T12:23:12.875Z"
   },
   {
    "duration": 657,
    "start_time": "2023-06-29T12:23:12.895Z"
   },
   {
    "duration": 118,
    "start_time": "2023-06-29T12:23:13.554Z"
   },
   {
    "duration": 6,
    "start_time": "2023-06-29T12:23:13.673Z"
   },
   {
    "duration": 53,
    "start_time": "2023-06-29T12:23:13.681Z"
   },
   {
    "duration": 14,
    "start_time": "2023-06-29T12:23:13.735Z"
   },
   {
    "duration": 25,
    "start_time": "2023-06-29T12:23:13.750Z"
   },
   {
    "duration": 144,
    "start_time": "2023-06-29T12:23:13.776Z"
   },
   {
    "duration": 199,
    "start_time": "2023-06-29T12:23:13.922Z"
   },
   {
    "duration": 193,
    "start_time": "2023-06-29T12:23:14.122Z"
   },
   {
    "duration": 12,
    "start_time": "2023-06-29T12:23:14.317Z"
   },
   {
    "duration": 23,
    "start_time": "2023-06-29T12:23:14.331Z"
   },
   {
    "duration": 12,
    "start_time": "2023-06-29T12:23:14.356Z"
   },
   {
    "duration": 3,
    "start_time": "2023-06-29T12:44:27.314Z"
   },
   {
    "duration": 44,
    "start_time": "2023-06-29T12:44:27.319Z"
   },
   {
    "duration": 9,
    "start_time": "2023-06-29T12:44:27.364Z"
   },
   {
    "duration": 38,
    "start_time": "2023-06-29T12:44:27.375Z"
   },
   {
    "duration": 14,
    "start_time": "2023-06-29T12:44:27.415Z"
   },
   {
    "duration": 20,
    "start_time": "2023-06-29T12:44:27.431Z"
   },
   {
    "duration": 6,
    "start_time": "2023-06-29T12:44:27.452Z"
   },
   {
    "duration": 21,
    "start_time": "2023-06-29T12:44:27.460Z"
   },
   {
    "duration": 8,
    "start_time": "2023-06-29T12:44:27.482Z"
   },
   {
    "duration": 39,
    "start_time": "2023-06-29T12:44:27.492Z"
   },
   {
    "duration": 5,
    "start_time": "2023-06-29T12:44:27.573Z"
   },
   {
    "duration": 45,
    "start_time": "2023-06-29T12:44:27.579Z"
   },
   {
    "duration": 6,
    "start_time": "2023-06-29T12:44:27.625Z"
   },
   {
    "duration": 4,
    "start_time": "2023-06-29T12:44:27.632Z"
   },
   {
    "duration": 16,
    "start_time": "2023-06-29T12:44:27.638Z"
   },
   {
    "duration": 10,
    "start_time": "2023-06-29T12:44:27.655Z"
   },
   {
    "duration": 123,
    "start_time": "2023-06-29T12:44:27.667Z"
   },
   {
    "duration": 111,
    "start_time": "2023-06-29T12:44:27.791Z"
   },
   {
    "duration": 7,
    "start_time": "2023-06-29T12:44:27.903Z"
   },
   {
    "duration": 4,
    "start_time": "2023-06-29T12:44:27.911Z"
   },
   {
    "duration": 4,
    "start_time": "2023-06-29T12:44:27.916Z"
   },
   {
    "duration": 12,
    "start_time": "2023-06-29T12:44:27.922Z"
   },
   {
    "duration": 119,
    "start_time": "2023-06-29T12:44:27.936Z"
   },
   {
    "duration": 192,
    "start_time": "2023-06-29T12:44:28.057Z"
   },
   {
    "duration": 180,
    "start_time": "2023-06-29T12:44:28.251Z"
   },
   {
    "duration": 10,
    "start_time": "2023-06-29T12:44:28.433Z"
   },
   {
    "duration": 8,
    "start_time": "2023-06-29T12:44:28.444Z"
   },
   {
    "duration": 6,
    "start_time": "2023-06-29T12:44:28.454Z"
   },
   {
    "duration": 11,
    "start_time": "2023-06-29T12:45:03.423Z"
   },
   {
    "duration": 10,
    "start_time": "2023-06-29T12:46:24.984Z"
   },
   {
    "duration": 85,
    "start_time": "2023-06-29T12:47:25.569Z"
   },
   {
    "duration": 24,
    "start_time": "2023-06-29T12:47:37.598Z"
   },
   {
    "duration": 448,
    "start_time": "2023-06-29T15:24:39.983Z"
   },
   {
    "duration": 103,
    "start_time": "2023-06-29T15:24:40.434Z"
   },
   {
    "duration": 14,
    "start_time": "2023-06-29T15:24:40.541Z"
   },
   {
    "duration": 90,
    "start_time": "2023-06-29T15:24:40.557Z"
   },
   {
    "duration": 13,
    "start_time": "2023-06-29T15:24:40.648Z"
   },
   {
    "duration": 61,
    "start_time": "2023-06-29T15:24:40.663Z"
   },
   {
    "duration": 6,
    "start_time": "2023-06-29T15:24:40.726Z"
   },
   {
    "duration": 18,
    "start_time": "2023-06-29T15:24:40.734Z"
   },
   {
    "duration": 5,
    "start_time": "2023-06-29T15:24:40.754Z"
   },
   {
    "duration": 10,
    "start_time": "2023-06-29T15:24:40.762Z"
   },
   {
    "duration": 19,
    "start_time": "2023-06-29T15:24:40.774Z"
   },
   {
    "duration": 14,
    "start_time": "2023-06-29T15:24:40.794Z"
   },
   {
    "duration": 11,
    "start_time": "2023-06-29T15:24:40.810Z"
   },
   {
    "duration": 10,
    "start_time": "2023-06-29T15:24:40.822Z"
   },
   {
    "duration": 10,
    "start_time": "2023-06-29T15:24:40.834Z"
   },
   {
    "duration": 14,
    "start_time": "2023-06-29T15:24:40.846Z"
   },
   {
    "duration": 570,
    "start_time": "2023-06-29T15:24:40.861Z"
   },
   {
    "duration": 131,
    "start_time": "2023-06-29T15:24:41.433Z"
   },
   {
    "duration": 5,
    "start_time": "2023-06-29T15:24:41.566Z"
   },
   {
    "duration": 18,
    "start_time": "2023-06-29T15:24:41.573Z"
   },
   {
    "duration": 9,
    "start_time": "2023-06-29T15:24:41.593Z"
   },
   {
    "duration": 13,
    "start_time": "2023-06-29T15:24:41.603Z"
   },
   {
    "duration": 125,
    "start_time": "2023-06-29T15:24:41.618Z"
   },
   {
    "duration": 10,
    "start_time": "2023-06-29T15:24:41.745Z"
   },
   {
    "duration": 8,
    "start_time": "2023-06-29T15:24:41.757Z"
   },
   {
    "duration": 215,
    "start_time": "2023-06-29T15:24:41.767Z"
   },
   {
    "duration": 19,
    "start_time": "2023-06-29T15:24:41.983Z"
   },
   {
    "duration": 10,
    "start_time": "2023-06-29T15:24:42.005Z"
   },
   {
    "duration": 6,
    "start_time": "2023-06-29T15:24:42.016Z"
   },
   {
    "duration": 79,
    "start_time": "2023-06-29T15:26:05.525Z"
   },
   {
    "duration": 8,
    "start_time": "2023-06-29T15:26:22.513Z"
   },
   {
    "duration": 18,
    "start_time": "2023-06-29T15:27:17.654Z"
   },
   {
    "duration": 13,
    "start_time": "2023-06-29T15:27:46.242Z"
   },
   {
    "duration": 19473,
    "start_time": "2023-06-29T15:28:53.130Z"
   },
   {
    "duration": 13,
    "start_time": "2023-06-29T15:33:08.172Z"
   },
   {
    "duration": 19479,
    "start_time": "2023-06-29T15:33:33.659Z"
   },
   {
    "duration": 19259,
    "start_time": "2023-06-29T15:34:06.316Z"
   },
   {
    "duration": 75611,
    "start_time": "2023-06-29T15:34:57.987Z"
   },
   {
    "duration": 23,
    "start_time": "2023-06-29T15:36:13.603Z"
   },
   {
    "duration": 43,
    "start_time": "2023-06-29T15:36:13.628Z"
   },
   {
    "duration": 6,
    "start_time": "2023-06-29T15:38:12.946Z"
   },
   {
    "duration": 74603,
    "start_time": "2023-06-29T15:39:08.266Z"
   },
   {
    "duration": 20481,
    "start_time": "2023-06-29T16:00:57.946Z"
   },
   {
    "duration": 22748,
    "start_time": "2023-06-29T16:03:18.602Z"
   },
   {
    "duration": 3,
    "start_time": "2023-06-29T16:04:21.821Z"
   },
   {
    "duration": 46,
    "start_time": "2023-06-29T16:04:21.828Z"
   },
   {
    "duration": 13,
    "start_time": "2023-06-29T16:04:21.876Z"
   },
   {
    "duration": 63,
    "start_time": "2023-06-29T16:04:21.891Z"
   },
   {
    "duration": 13,
    "start_time": "2023-06-29T16:04:21.957Z"
   },
   {
    "duration": 21,
    "start_time": "2023-06-29T16:04:21.972Z"
   },
   {
    "duration": 7,
    "start_time": "2023-06-29T16:04:21.995Z"
   },
   {
    "duration": 27,
    "start_time": "2023-06-29T16:04:22.004Z"
   },
   {
    "duration": 5,
    "start_time": "2023-06-29T16:04:22.033Z"
   },
   {
    "duration": 13,
    "start_time": "2023-06-29T16:04:22.039Z"
   },
   {
    "duration": 14,
    "start_time": "2023-06-29T16:04:22.055Z"
   },
   {
    "duration": 12,
    "start_time": "2023-06-29T16:04:22.071Z"
   },
   {
    "duration": 34,
    "start_time": "2023-06-29T16:04:22.084Z"
   },
   {
    "duration": 5,
    "start_time": "2023-06-29T16:04:22.120Z"
   },
   {
    "duration": 8,
    "start_time": "2023-06-29T16:04:22.126Z"
   },
   {
    "duration": 9,
    "start_time": "2023-06-29T16:04:22.136Z"
   },
   {
    "duration": 177,
    "start_time": "2023-06-29T16:04:22.147Z"
   },
   {
    "duration": 153,
    "start_time": "2023-06-29T16:04:22.325Z"
   },
   {
    "duration": 6,
    "start_time": "2023-06-29T16:04:22.480Z"
   },
   {
    "duration": 18,
    "start_time": "2023-06-29T16:04:22.487Z"
   },
   {
    "duration": 17,
    "start_time": "2023-06-29T16:04:22.507Z"
   },
   {
    "duration": 13,
    "start_time": "2023-06-29T16:04:22.525Z"
   },
   {
    "duration": 129,
    "start_time": "2023-06-29T16:04:22.540Z"
   },
   {
    "duration": 10,
    "start_time": "2023-06-29T16:04:22.672Z"
   },
   {
    "duration": 20,
    "start_time": "2023-06-29T16:04:22.684Z"
   },
   {
    "duration": 19534,
    "start_time": "2023-06-29T16:04:22.706Z"
   },
   {
    "duration": 228,
    "start_time": "2023-06-29T16:04:42.241Z"
   },
   {
    "duration": 11,
    "start_time": "2023-06-29T16:04:42.470Z"
   },
   {
    "duration": 40,
    "start_time": "2023-06-29T16:04:42.485Z"
   },
   {
    "duration": 21,
    "start_time": "2023-06-29T16:04:42.527Z"
   },
   {
    "duration": 22443,
    "start_time": "2023-06-29T16:06:15.286Z"
   },
   {
    "duration": 6,
    "start_time": "2023-06-29T16:07:44.423Z"
   },
   {
    "duration": 21,
    "start_time": "2023-06-29T16:07:45.616Z"
   },
   {
    "duration": 7,
    "start_time": "2023-06-29T16:07:46.936Z"
   },
   {
    "duration": 9524,
    "start_time": "2023-06-29T16:10:04.640Z"
   },
   {
    "duration": 690,
    "start_time": "2023-06-29T16:13:43.829Z"
   },
   {
    "duration": 863,
    "start_time": "2023-06-29T16:13:54.939Z"
   },
   {
    "duration": 210,
    "start_time": "2023-06-29T16:14:37.766Z"
   },
   {
    "duration": 221,
    "start_time": "2023-06-29T16:18:47.130Z"
   },
   {
    "duration": 3,
    "start_time": "2023-06-29T16:27:27.009Z"
   },
   {
    "duration": 44,
    "start_time": "2023-06-29T16:27:27.018Z"
   },
   {
    "duration": 16,
    "start_time": "2023-06-29T16:27:27.065Z"
   },
   {
    "duration": 45,
    "start_time": "2023-06-29T16:27:27.084Z"
   },
   {
    "duration": 15,
    "start_time": "2023-06-29T16:27:27.132Z"
   },
   {
    "duration": 25,
    "start_time": "2023-06-29T16:27:27.148Z"
   },
   {
    "duration": 7,
    "start_time": "2023-06-29T16:27:27.175Z"
   },
   {
    "duration": 28,
    "start_time": "2023-06-29T16:27:27.184Z"
   },
   {
    "duration": 5,
    "start_time": "2023-06-29T16:27:27.214Z"
   },
   {
    "duration": 9,
    "start_time": "2023-06-29T16:27:27.221Z"
   },
   {
    "duration": 11,
    "start_time": "2023-06-29T16:27:27.233Z"
   },
   {
    "duration": 10,
    "start_time": "2023-06-29T16:27:27.246Z"
   },
   {
    "duration": 15,
    "start_time": "2023-06-29T16:27:27.257Z"
   },
   {
    "duration": 8,
    "start_time": "2023-06-29T16:27:27.302Z"
   },
   {
    "duration": 8,
    "start_time": "2023-06-29T16:27:27.312Z"
   },
   {
    "duration": 13,
    "start_time": "2023-06-29T16:27:27.321Z"
   },
   {
    "duration": 165,
    "start_time": "2023-06-29T16:27:27.336Z"
   },
   {
    "duration": 140,
    "start_time": "2023-06-29T16:27:27.503Z"
   },
   {
    "duration": 7,
    "start_time": "2023-06-29T16:27:27.645Z"
   },
   {
    "duration": 10,
    "start_time": "2023-06-29T16:27:27.654Z"
   },
   {
    "duration": 20,
    "start_time": "2023-06-29T16:27:27.665Z"
   },
   {
    "duration": 20,
    "start_time": "2023-06-29T16:27:27.687Z"
   },
   {
    "duration": 133,
    "start_time": "2023-06-29T16:27:27.709Z"
   },
   {
    "duration": 11,
    "start_time": "2023-06-29T16:27:27.844Z"
   },
   {
    "duration": 8,
    "start_time": "2023-06-29T16:27:27.857Z"
   },
   {
    "duration": 18436,
    "start_time": "2023-06-29T16:27:27.867Z"
   },
   {
    "duration": 7,
    "start_time": "2023-06-29T16:28:07.870Z"
   },
   {
    "duration": 43,
    "start_time": "2023-06-29T16:28:07.879Z"
   },
   {
    "duration": 13,
    "start_time": "2023-06-29T16:28:07.925Z"
   },
   {
    "duration": 46,
    "start_time": "2023-06-29T16:28:07.940Z"
   },
   {
    "duration": 13,
    "start_time": "2023-06-29T16:28:07.987Z"
   },
   {
    "duration": 25,
    "start_time": "2023-06-29T16:28:08.002Z"
   },
   {
    "duration": 12,
    "start_time": "2023-06-29T16:28:08.029Z"
   },
   {
    "duration": 31,
    "start_time": "2023-06-29T16:28:08.043Z"
   },
   {
    "duration": 4,
    "start_time": "2023-06-29T16:28:08.077Z"
   },
   {
    "duration": 22,
    "start_time": "2023-06-29T16:28:08.083Z"
   },
   {
    "duration": 9,
    "start_time": "2023-06-29T16:28:08.107Z"
   },
   {
    "duration": 9,
    "start_time": "2023-06-29T16:28:08.118Z"
   },
   {
    "duration": 7,
    "start_time": "2023-06-29T16:28:08.129Z"
   },
   {
    "duration": 8,
    "start_time": "2023-06-29T16:28:08.138Z"
   },
   {
    "duration": 9,
    "start_time": "2023-06-29T16:28:08.148Z"
   },
   {
    "duration": 45,
    "start_time": "2023-06-29T16:28:08.159Z"
   },
   {
    "duration": 165,
    "start_time": "2023-06-29T16:28:08.206Z"
   },
   {
    "duration": 142,
    "start_time": "2023-06-29T16:28:08.373Z"
   },
   {
    "duration": 6,
    "start_time": "2023-06-29T16:28:08.516Z"
   },
   {
    "duration": 15,
    "start_time": "2023-06-29T16:28:08.524Z"
   },
   {
    "duration": 7,
    "start_time": "2023-06-29T16:28:08.541Z"
   },
   {
    "duration": 15,
    "start_time": "2023-06-29T16:28:08.550Z"
   },
   {
    "duration": 152,
    "start_time": "2023-06-29T16:28:08.566Z"
   },
   {
    "duration": 10,
    "start_time": "2023-06-29T16:28:08.720Z"
   },
   {
    "duration": 19,
    "start_time": "2023-06-29T16:28:08.732Z"
   },
   {
    "duration": 18531,
    "start_time": "2023-06-29T16:28:08.753Z"
   },
   {
    "duration": 18598,
    "start_time": "2023-06-29T16:28:27.285Z"
   },
   {
    "duration": 20,
    "start_time": "2023-06-29T16:28:45.886Z"
   },
   {
    "duration": 25,
    "start_time": "2023-06-29T16:28:45.907Z"
   },
   {
    "duration": 8,
    "start_time": "2023-06-29T16:28:45.934Z"
   },
   {
    "duration": 23,
    "start_time": "2023-06-29T16:28:45.944Z"
   },
   {
    "duration": 38,
    "start_time": "2023-06-29T16:28:45.969Z"
   },
   {
    "duration": 8426,
    "start_time": "2023-06-29T16:28:46.010Z"
   },
   {
    "duration": 231,
    "start_time": "2023-06-29T16:28:54.438Z"
   },
   {
    "duration": 19,
    "start_time": "2023-06-29T16:31:51.226Z"
   },
   {
    "duration": 16,
    "start_time": "2023-06-29T16:32:16.341Z"
   },
   {
    "duration": 24,
    "start_time": "2023-06-29T16:32:27.163Z"
   },
   {
    "duration": 25,
    "start_time": "2023-06-29T16:34:04.409Z"
   },
   {
    "duration": 9,
    "start_time": "2023-06-29T16:45:16.750Z"
   },
   {
    "duration": 5,
    "start_time": "2023-06-29T16:45:45.900Z"
   },
   {
    "duration": 4,
    "start_time": "2023-06-29T16:45:55.585Z"
   },
   {
    "duration": 19,
    "start_time": "2023-06-29T16:45:58.255Z"
   },
   {
    "duration": 3,
    "start_time": "2023-06-29T16:46:08.068Z"
   },
   {
    "duration": 102,
    "start_time": "2023-06-29T16:46:08.073Z"
   },
   {
    "duration": 15,
    "start_time": "2023-06-29T16:46:08.177Z"
   },
   {
    "duration": 50,
    "start_time": "2023-06-29T16:46:08.194Z"
   },
   {
    "duration": 13,
    "start_time": "2023-06-29T16:46:08.247Z"
   },
   {
    "duration": 21,
    "start_time": "2023-06-29T16:46:08.262Z"
   },
   {
    "duration": 19,
    "start_time": "2023-06-29T16:46:08.285Z"
   },
   {
    "duration": 13,
    "start_time": "2023-06-29T16:46:08.306Z"
   },
   {
    "duration": 11,
    "start_time": "2023-06-29T16:46:08.326Z"
   },
   {
    "duration": 6,
    "start_time": "2023-06-29T16:46:08.340Z"
   },
   {
    "duration": 14,
    "start_time": "2023-06-29T16:46:08.348Z"
   },
   {
    "duration": 14,
    "start_time": "2023-06-29T16:46:08.364Z"
   },
   {
    "duration": 14,
    "start_time": "2023-06-29T16:46:08.402Z"
   },
   {
    "duration": 19,
    "start_time": "2023-06-29T16:46:08.419Z"
   },
   {
    "duration": 8,
    "start_time": "2023-06-29T16:46:08.440Z"
   },
   {
    "duration": 14,
    "start_time": "2023-06-29T16:46:08.450Z"
   },
   {
    "duration": 9,
    "start_time": "2023-06-29T16:46:08.466Z"
   },
   {
    "duration": 196,
    "start_time": "2023-06-29T16:46:08.476Z"
   },
   {
    "duration": 3424,
    "start_time": "2023-06-29T16:46:08.675Z"
   },
   {
    "duration": 22,
    "start_time": "2023-06-29T16:46:12.101Z"
   },
   {
    "duration": 45,
    "start_time": "2023-06-29T16:46:12.126Z"
   },
   {
    "duration": 9,
    "start_time": "2023-06-29T16:46:12.173Z"
   },
   {
    "duration": 23,
    "start_time": "2023-06-29T16:46:12.184Z"
   },
   {
    "duration": 214,
    "start_time": "2023-06-29T16:46:12.209Z"
   },
   {
    "duration": 10,
    "start_time": "2023-06-29T16:46:12.429Z"
   },
   {
    "duration": 15,
    "start_time": "2023-06-29T16:46:12.441Z"
   },
   {
    "duration": 21695,
    "start_time": "2023-06-29T16:46:12.458Z"
   },
   {
    "duration": 22467,
    "start_time": "2023-06-29T16:46:34.155Z"
   },
   {
    "duration": 14,
    "start_time": "2023-06-29T16:46:56.628Z"
   },
   {
    "duration": 25,
    "start_time": "2023-06-29T16:46:56.644Z"
   },
   {
    "duration": 8,
    "start_time": "2023-06-29T16:46:56.672Z"
   },
   {
    "duration": 37,
    "start_time": "2023-06-29T16:46:56.703Z"
   },
   {
    "duration": 16,
    "start_time": "2023-06-29T16:46:56.742Z"
   },
   {
    "duration": 9862,
    "start_time": "2023-06-29T16:46:56.761Z"
   },
   {
    "duration": 255,
    "start_time": "2023-06-29T16:47:06.625Z"
   },
   {
    "duration": 30,
    "start_time": "2023-06-29T16:47:06.883Z"
   },
   {
    "duration": 8,
    "start_time": "2023-06-29T16:47:42.437Z"
   },
   {
    "duration": 7,
    "start_time": "2023-06-29T16:49:58.487Z"
   },
   {
    "duration": 16,
    "start_time": "2023-06-29T16:50:07.296Z"
   },
   {
    "duration": 10,
    "start_time": "2023-06-29T16:50:38.707Z"
   },
   {
    "duration": 19,
    "start_time": "2023-06-29T16:53:28.776Z"
   },
   {
    "duration": 25,
    "start_time": "2023-06-29T16:54:08.199Z"
   },
   {
    "duration": 23,
    "start_time": "2023-06-29T17:01:22.828Z"
   },
   {
    "duration": 72,
    "start_time": "2023-06-29T17:01:37.789Z"
   },
   {
    "duration": 30,
    "start_time": "2023-06-29T17:01:40.619Z"
   },
   {
    "duration": 29,
    "start_time": "2023-06-29T17:02:18.675Z"
   },
   {
    "duration": 17,
    "start_time": "2023-06-29T17:02:23.028Z"
   },
   {
    "duration": 19,
    "start_time": "2023-06-29T17:02:24.459Z"
   },
   {
    "duration": 21,
    "start_time": "2023-06-29T17:03:26.046Z"
   },
   {
    "duration": 28,
    "start_time": "2023-06-29T17:03:27.288Z"
   },
   {
    "duration": 24,
    "start_time": "2023-06-29T17:09:01.119Z"
   },
   {
    "duration": 23,
    "start_time": "2023-06-29T17:09:13.800Z"
   },
   {
    "duration": 53,
    "start_time": "2023-06-29T17:09:15.892Z"
   },
   {
    "duration": 48,
    "start_time": "2023-06-29T17:14:18.231Z"
   },
   {
    "duration": 20,
    "start_time": "2023-06-29T17:15:10.350Z"
   },
   {
    "duration": 16,
    "start_time": "2023-06-29T17:24:01.167Z"
   },
   {
    "duration": 23,
    "start_time": "2023-06-29T17:28:32.371Z"
   },
   {
    "duration": 8,
    "start_time": "2023-06-29T17:35:04.046Z"
   },
   {
    "duration": 51,
    "start_time": "2023-06-29T17:35:15.432Z"
   },
   {
    "duration": 14,
    "start_time": "2023-06-29T17:35:48.154Z"
   },
   {
    "duration": 13,
    "start_time": "2023-06-29T17:35:53.052Z"
   },
   {
    "duration": 26,
    "start_time": "2023-06-29T17:36:11.896Z"
   },
   {
    "duration": 53,
    "start_time": "2023-06-29T19:14:39.047Z"
   },
   {
    "duration": 841,
    "start_time": "2023-06-29T19:14:47.558Z"
   },
   {
    "duration": 115,
    "start_time": "2023-06-29T19:14:48.401Z"
   },
   {
    "duration": 12,
    "start_time": "2023-06-29T19:14:48.518Z"
   },
   {
    "duration": 160,
    "start_time": "2023-06-29T19:14:48.532Z"
   },
   {
    "duration": 11,
    "start_time": "2023-06-29T19:14:48.693Z"
   },
   {
    "duration": 60,
    "start_time": "2023-06-29T19:14:48.706Z"
   },
   {
    "duration": 8,
    "start_time": "2023-06-29T19:14:48.767Z"
   },
   {
    "duration": 6,
    "start_time": "2023-06-29T19:14:48.776Z"
   },
   {
    "duration": 6,
    "start_time": "2023-06-29T19:14:48.783Z"
   },
   {
    "duration": 10,
    "start_time": "2023-06-29T19:14:48.792Z"
   },
   {
    "duration": 9,
    "start_time": "2023-06-29T19:14:48.803Z"
   },
   {
    "duration": 8,
    "start_time": "2023-06-29T19:14:48.813Z"
   },
   {
    "duration": 6,
    "start_time": "2023-06-29T19:14:48.823Z"
   },
   {
    "duration": 38,
    "start_time": "2023-06-29T19:14:48.830Z"
   },
   {
    "duration": 5,
    "start_time": "2023-06-29T19:14:48.870Z"
   },
   {
    "duration": 6,
    "start_time": "2023-06-29T19:14:48.877Z"
   },
   {
    "duration": 10,
    "start_time": "2023-06-29T19:14:48.885Z"
   },
   {
    "duration": 185,
    "start_time": "2023-06-29T19:14:48.897Z"
   },
   {
    "duration": 116,
    "start_time": "2023-06-29T19:14:49.084Z"
   },
   {
    "duration": 5,
    "start_time": "2023-06-29T19:14:49.202Z"
   },
   {
    "duration": 6,
    "start_time": "2023-06-29T19:14:49.209Z"
   },
   {
    "duration": 6,
    "start_time": "2023-06-29T19:14:49.216Z"
   },
   {
    "duration": 11,
    "start_time": "2023-06-29T19:14:49.224Z"
   },
   {
    "duration": 135,
    "start_time": "2023-06-29T19:14:49.237Z"
   },
   {
    "duration": 8,
    "start_time": "2023-06-29T19:14:49.375Z"
   },
   {
    "duration": 8,
    "start_time": "2023-06-29T19:14:49.385Z"
   },
   {
    "duration": 17278,
    "start_time": "2023-06-29T19:14:49.394Z"
   },
   {
    "duration": 17253,
    "start_time": "2023-06-29T19:15:06.675Z"
   },
   {
    "duration": 15,
    "start_time": "2023-06-29T19:15:23.930Z"
   },
   {
    "duration": 40,
    "start_time": "2023-06-29T19:15:23.947Z"
   },
   {
    "duration": 7,
    "start_time": "2023-06-29T19:15:23.989Z"
   },
   {
    "duration": 26,
    "start_time": "2023-06-29T19:15:23.998Z"
   },
   {
    "duration": 10,
    "start_time": "2023-06-29T19:15:24.026Z"
   },
   {
    "duration": 8014,
    "start_time": "2023-06-29T19:15:24.038Z"
   },
   {
    "duration": 211,
    "start_time": "2023-06-29T19:15:32.054Z"
   },
   {
    "duration": 17,
    "start_time": "2023-06-29T19:15:32.268Z"
   },
   {
    "duration": 43,
    "start_time": "2023-06-29T19:15:32.288Z"
   },
   {
    "duration": 0,
    "start_time": "2023-06-29T19:15:32.333Z"
   },
   {
    "duration": 0,
    "start_time": "2023-06-29T19:15:32.335Z"
   },
   {
    "duration": 7,
    "start_time": "2023-06-29T19:18:14.051Z"
   },
   {
    "duration": 10,
    "start_time": "2023-06-29T19:18:21.728Z"
   },
   {
    "duration": 24,
    "start_time": "2023-06-29T19:18:31.730Z"
   },
   {
    "duration": 8,
    "start_time": "2023-06-29T19:33:27.622Z"
   },
   {
    "duration": 37,
    "start_time": "2023-06-29T19:34:26.650Z"
   },
   {
    "duration": 45,
    "start_time": "2023-06-29T19:35:08.981Z"
   },
   {
    "duration": 44,
    "start_time": "2023-06-29T19:37:02.460Z"
   },
   {
    "duration": 58,
    "start_time": "2023-06-29T19:37:12.512Z"
   },
   {
    "duration": 37,
    "start_time": "2023-06-29T19:38:13.532Z"
   },
   {
    "duration": 62,
    "start_time": "2023-06-29T19:40:34.606Z"
   },
   {
    "duration": 1900,
    "start_time": "2023-06-29T19:54:51.226Z"
   },
   {
    "duration": 4,
    "start_time": "2023-06-29T19:55:00.653Z"
   },
   {
    "duration": 12,
    "start_time": "2023-06-29T19:55:25.199Z"
   },
   {
    "duration": 2,
    "start_time": "2023-06-29T19:55:57.295Z"
   },
   {
    "duration": 38,
    "start_time": "2023-06-29T19:55:57.300Z"
   },
   {
    "duration": 10,
    "start_time": "2023-06-29T19:55:57.340Z"
   },
   {
    "duration": 41,
    "start_time": "2023-06-29T19:55:57.353Z"
   },
   {
    "duration": 12,
    "start_time": "2023-06-29T19:55:57.395Z"
   },
   {
    "duration": 23,
    "start_time": "2023-06-29T19:55:57.409Z"
   },
   {
    "duration": 7,
    "start_time": "2023-06-29T19:55:57.434Z"
   },
   {
    "duration": 7,
    "start_time": "2023-06-29T19:55:57.442Z"
   },
   {
    "duration": 24,
    "start_time": "2023-06-29T19:55:57.451Z"
   },
   {
    "duration": 11,
    "start_time": "2023-06-29T19:55:57.476Z"
   },
   {
    "duration": 10,
    "start_time": "2023-06-29T19:55:57.488Z"
   },
   {
    "duration": 7,
    "start_time": "2023-06-29T19:55:57.500Z"
   },
   {
    "duration": 11,
    "start_time": "2023-06-29T19:55:57.508Z"
   },
   {
    "duration": 5,
    "start_time": "2023-06-29T19:55:57.521Z"
   },
   {
    "duration": 5,
    "start_time": "2023-06-29T19:55:57.527Z"
   },
   {
    "duration": 13,
    "start_time": "2023-06-29T19:55:57.567Z"
   },
   {
    "duration": 7,
    "start_time": "2023-06-29T19:55:57.585Z"
   },
   {
    "duration": 144,
    "start_time": "2023-06-29T19:55:57.593Z"
   },
   {
    "duration": 281,
    "start_time": "2023-06-29T19:55:57.738Z"
   },
   {
    "duration": 9,
    "start_time": "2023-06-29T19:55:58.022Z"
   },
   {
    "duration": 5,
    "start_time": "2023-06-29T19:55:58.033Z"
   },
   {
    "duration": 34,
    "start_time": "2023-06-29T19:55:58.040Z"
   },
   {
    "duration": 9,
    "start_time": "2023-06-29T19:55:58.079Z"
   },
   {
    "duration": 115,
    "start_time": "2023-06-29T19:55:58.091Z"
   },
   {
    "duration": 8,
    "start_time": "2023-06-29T19:55:58.207Z"
   },
   {
    "duration": 6,
    "start_time": "2023-06-29T19:55:58.217Z"
   },
   {
    "duration": 18115,
    "start_time": "2023-06-29T19:55:58.224Z"
   },
   {
    "duration": 17722,
    "start_time": "2023-06-29T19:56:16.341Z"
   },
   {
    "duration": 14,
    "start_time": "2023-06-29T19:56:34.065Z"
   },
   {
    "duration": 32,
    "start_time": "2023-06-29T19:56:34.081Z"
   },
   {
    "duration": 7,
    "start_time": "2023-06-29T19:56:34.115Z"
   },
   {
    "duration": 21,
    "start_time": "2023-06-29T19:56:34.124Z"
   },
   {
    "duration": 32,
    "start_time": "2023-06-29T19:56:34.147Z"
   },
   {
    "duration": 8933,
    "start_time": "2023-06-29T19:56:34.183Z"
   },
   {
    "duration": 215,
    "start_time": "2023-06-29T19:56:43.118Z"
   },
   {
    "duration": 16,
    "start_time": "2023-06-29T19:56:43.335Z"
   },
   {
    "duration": 30,
    "start_time": "2023-06-29T19:56:43.353Z"
   },
   {
    "duration": 1896,
    "start_time": "2023-06-29T19:56:43.385Z"
   },
   {
    "duration": 0,
    "start_time": "2023-06-29T19:56:45.283Z"
   },
   {
    "duration": 10,
    "start_time": "2023-06-29T19:57:47.651Z"
   },
   {
    "duration": 7,
    "start_time": "2023-06-29T19:57:58.565Z"
   },
   {
    "duration": 36,
    "start_time": "2023-06-29T19:57:58.597Z"
   },
   {
    "duration": 10,
    "start_time": "2023-06-29T19:57:58.635Z"
   },
   {
    "duration": 40,
    "start_time": "2023-06-29T19:57:58.646Z"
   },
   {
    "duration": 10,
    "start_time": "2023-06-29T19:57:58.687Z"
   },
   {
    "duration": 19,
    "start_time": "2023-06-29T19:57:58.699Z"
   },
   {
    "duration": 7,
    "start_time": "2023-06-29T19:57:58.719Z"
   },
   {
    "duration": 5,
    "start_time": "2023-06-29T19:57:58.727Z"
   },
   {
    "duration": 5,
    "start_time": "2023-06-29T19:57:58.734Z"
   },
   {
    "duration": 30,
    "start_time": "2023-06-29T19:57:58.740Z"
   },
   {
    "duration": 14,
    "start_time": "2023-06-29T19:57:58.775Z"
   },
   {
    "duration": 9,
    "start_time": "2023-06-29T19:57:58.791Z"
   },
   {
    "duration": 6,
    "start_time": "2023-06-29T19:57:58.802Z"
   },
   {
    "duration": 5,
    "start_time": "2023-06-29T19:57:58.810Z"
   },
   {
    "duration": 5,
    "start_time": "2023-06-29T19:57:58.819Z"
   },
   {
    "duration": 7,
    "start_time": "2023-06-29T19:57:58.825Z"
   },
   {
    "duration": 42,
    "start_time": "2023-06-29T19:57:58.834Z"
   },
   {
    "duration": 134,
    "start_time": "2023-06-29T19:57:58.878Z"
   },
   {
    "duration": 136,
    "start_time": "2023-06-29T19:57:59.013Z"
   },
   {
    "duration": 6,
    "start_time": "2023-06-29T19:57:59.150Z"
   },
   {
    "duration": 17,
    "start_time": "2023-06-29T19:57:59.158Z"
   },
   {
    "duration": 13,
    "start_time": "2023-06-29T19:57:59.177Z"
   },
   {
    "duration": 12,
    "start_time": "2023-06-29T19:57:59.193Z"
   },
   {
    "duration": 132,
    "start_time": "2023-06-29T19:57:59.207Z"
   },
   {
    "duration": 9,
    "start_time": "2023-06-29T19:57:59.340Z"
   },
   {
    "duration": 20,
    "start_time": "2023-06-29T19:57:59.350Z"
   },
   {
    "duration": 18706,
    "start_time": "2023-06-29T19:57:59.377Z"
   },
   {
    "duration": 17563,
    "start_time": "2023-06-29T19:58:18.085Z"
   },
   {
    "duration": 19,
    "start_time": "2023-06-29T19:58:35.649Z"
   },
   {
    "duration": 24,
    "start_time": "2023-06-29T19:58:35.677Z"
   },
   {
    "duration": 6,
    "start_time": "2023-06-29T19:58:35.702Z"
   },
   {
    "duration": 24,
    "start_time": "2023-06-29T19:58:35.710Z"
   },
   {
    "duration": 6,
    "start_time": "2023-06-29T19:58:35.735Z"
   },
   {
    "duration": 9060,
    "start_time": "2023-06-29T19:58:35.742Z"
   },
   {
    "duration": 199,
    "start_time": "2023-06-29T19:58:44.803Z"
   },
   {
    "duration": 16,
    "start_time": "2023-06-29T19:58:45.004Z"
   },
   {
    "duration": 24,
    "start_time": "2023-06-29T19:58:45.021Z"
   },
   {
    "duration": 1869,
    "start_time": "2023-06-29T19:58:45.047Z"
   },
   {
    "duration": 0,
    "start_time": "2023-06-29T19:58:46.918Z"
   },
   {
    "duration": 8,
    "start_time": "2023-06-29T20:28:13.820Z"
   },
   {
    "duration": 186,
    "start_time": "2023-06-29T20:30:29.908Z"
   },
   {
    "duration": 155,
    "start_time": "2023-06-29T20:31:09.810Z"
   },
   {
    "duration": 19,
    "start_time": "2023-06-29T20:31:23.570Z"
   },
   {
    "duration": 15,
    "start_time": "2023-06-29T20:32:13.610Z"
   },
   {
    "duration": 7593,
    "start_time": "2023-06-29T20:32:33.521Z"
   },
   {
    "duration": 11,
    "start_time": "2023-06-29T20:32:49.212Z"
   },
   {
    "duration": 17,
    "start_time": "2023-06-29T20:33:20.960Z"
   },
   {
    "duration": 51,
    "start_time": "2023-06-30T08:22:30.148Z"
   },
   {
    "duration": 886,
    "start_time": "2023-06-30T08:22:40.096Z"
   },
   {
    "duration": 103,
    "start_time": "2023-06-30T08:22:40.984Z"
   },
   {
    "duration": 13,
    "start_time": "2023-06-30T08:22:41.088Z"
   },
   {
    "duration": 200,
    "start_time": "2023-06-30T08:22:41.103Z"
   },
   {
    "duration": 16,
    "start_time": "2023-06-30T08:22:41.305Z"
   },
   {
    "duration": 94,
    "start_time": "2023-06-30T08:22:41.323Z"
   },
   {
    "duration": 8,
    "start_time": "2023-06-30T08:22:41.419Z"
   },
   {
    "duration": 38,
    "start_time": "2023-06-30T08:22:41.429Z"
   },
   {
    "duration": 38,
    "start_time": "2023-06-30T08:22:41.469Z"
   },
   {
    "duration": 23,
    "start_time": "2023-06-30T08:22:41.510Z"
   },
   {
    "duration": 33,
    "start_time": "2023-06-30T08:22:41.535Z"
   },
   {
    "duration": 28,
    "start_time": "2023-06-30T08:22:41.570Z"
   },
   {
    "duration": 40,
    "start_time": "2023-06-30T08:22:41.600Z"
   },
   {
    "duration": 52,
    "start_time": "2023-06-30T08:22:41.642Z"
   },
   {
    "duration": 37,
    "start_time": "2023-06-30T08:22:41.696Z"
   },
   {
    "duration": 35,
    "start_time": "2023-06-30T08:22:41.735Z"
   },
   {
    "duration": 20,
    "start_time": "2023-06-30T08:22:41.772Z"
   },
   {
    "duration": 184,
    "start_time": "2023-06-30T08:22:41.793Z"
   },
   {
    "duration": 136,
    "start_time": "2023-06-30T08:22:41.979Z"
   },
   {
    "duration": 6,
    "start_time": "2023-06-30T08:22:42.116Z"
   },
   {
    "duration": 34,
    "start_time": "2023-06-30T08:22:42.124Z"
   },
   {
    "duration": 41,
    "start_time": "2023-06-30T08:22:42.160Z"
   },
   {
    "duration": 47,
    "start_time": "2023-06-30T08:22:42.203Z"
   },
   {
    "duration": 140,
    "start_time": "2023-06-30T08:22:42.253Z"
   },
   {
    "duration": 19,
    "start_time": "2023-06-30T08:22:42.395Z"
   },
   {
    "duration": 24,
    "start_time": "2023-06-30T08:22:42.415Z"
   },
   {
    "duration": 19548,
    "start_time": "2023-06-30T08:22:42.441Z"
   },
   {
    "duration": 19652,
    "start_time": "2023-06-30T08:23:01.992Z"
   },
   {
    "duration": 28,
    "start_time": "2023-06-30T08:23:21.646Z"
   },
   {
    "duration": 26,
    "start_time": "2023-06-30T08:23:34.807Z"
   },
   {
    "duration": 9,
    "start_time": "2023-06-30T08:23:47.525Z"
   },
   {
    "duration": 24,
    "start_time": "2023-06-30T08:23:50.234Z"
   },
   {
    "duration": 7,
    "start_time": "2023-06-30T08:23:56.323Z"
   },
   {
    "duration": 234,
    "start_time": "2023-06-30T08:24:32.180Z"
   },
   {
    "duration": 17,
    "start_time": "2023-06-30T08:24:40.481Z"
   },
   {
    "duration": 834,
    "start_time": "2023-06-30T08:27:02.958Z"
   },
   {
    "duration": 11,
    "start_time": "2023-06-30T08:28:10.896Z"
   },
   {
    "duration": 13,
    "start_time": "2023-06-30T08:28:18.399Z"
   },
   {
    "duration": 13,
    "start_time": "2023-06-30T08:29:27.186Z"
   },
   {
    "duration": 18,
    "start_time": "2023-06-30T08:29:42.638Z"
   },
   {
    "duration": 820,
    "start_time": "2023-06-30T08:30:49.856Z"
   },
   {
    "duration": 52,
    "start_time": "2023-06-30T08:31:01.564Z"
   },
   {
    "duration": 867,
    "start_time": "2023-06-30T08:34:23.957Z"
   },
   {
    "duration": 850,
    "start_time": "2023-06-30T08:36:45.101Z"
   },
   {
    "duration": 11,
    "start_time": "2023-06-30T08:36:50.789Z"
   },
   {
    "duration": 15,
    "start_time": "2023-06-30T08:36:56.339Z"
   },
   {
    "duration": 29,
    "start_time": "2023-06-30T08:37:38.472Z"
   },
   {
    "duration": 29,
    "start_time": "2023-06-30T08:38:48.181Z"
   },
   {
    "duration": 10,
    "start_time": "2023-06-30T09:12:58.242Z"
   },
   {
    "duration": 219,
    "start_time": "2023-06-30T09:13:01.967Z"
   },
   {
    "duration": 962,
    "start_time": "2023-06-30T09:13:04.435Z"
   },
   {
    "duration": 11,
    "start_time": "2023-06-30T09:13:05.862Z"
   },
   {
    "duration": 435,
    "start_time": "2023-06-30T09:15:21.512Z"
   },
   {
    "duration": 37,
    "start_time": "2023-06-30T09:15:24.770Z"
   },
   {
    "duration": 11,
    "start_time": "2023-06-30T09:15:25.881Z"
   },
   {
    "duration": 44,
    "start_time": "2023-06-30T09:15:27.026Z"
   },
   {
    "duration": 12,
    "start_time": "2023-06-30T09:15:27.786Z"
   },
   {
    "duration": 31,
    "start_time": "2023-06-30T09:15:28.543Z"
   },
   {
    "duration": 7,
    "start_time": "2023-06-30T09:15:31.587Z"
   },
   {
    "duration": 4,
    "start_time": "2023-06-30T09:15:32.693Z"
   },
   {
    "duration": 6,
    "start_time": "2023-06-30T09:15:33.595Z"
   },
   {
    "duration": 17,
    "start_time": "2023-06-30T09:15:35.331Z"
   },
   {
    "duration": 9,
    "start_time": "2023-06-30T09:15:36.631Z"
   },
   {
    "duration": 8,
    "start_time": "2023-06-30T09:15:37.680Z"
   },
   {
    "duration": 7,
    "start_time": "2023-06-30T09:15:38.847Z"
   },
   {
    "duration": 8,
    "start_time": "2023-06-30T09:15:39.696Z"
   },
   {
    "duration": 6,
    "start_time": "2023-06-30T09:15:40.703Z"
   },
   {
    "duration": 8,
    "start_time": "2023-06-30T09:15:43.256Z"
   },
   {
    "duration": 8,
    "start_time": "2023-06-30T09:15:44.071Z"
   },
   {
    "duration": 152,
    "start_time": "2023-06-30T09:15:46.927Z"
   },
   {
    "duration": 141,
    "start_time": "2023-06-30T09:15:48.028Z"
   },
   {
    "duration": 6,
    "start_time": "2023-06-30T09:15:49.028Z"
   },
   {
    "duration": 4,
    "start_time": "2023-06-30T09:15:51.332Z"
   },
   {
    "duration": 5,
    "start_time": "2023-06-30T09:15:52.235Z"
   },
   {
    "duration": 11,
    "start_time": "2023-06-30T09:15:53.827Z"
   },
   {
    "duration": 148,
    "start_time": "2023-06-30T09:15:55.775Z"
   },
   {
    "duration": 9,
    "start_time": "2023-06-30T09:15:57.046Z"
   },
   {
    "duration": 6,
    "start_time": "2023-06-30T09:15:58.689Z"
   },
   {
    "duration": 206,
    "start_time": "2023-06-30T09:16:43.435Z"
   },
   {
    "duration": 220,
    "start_time": "2023-06-30T09:17:22.056Z"
   },
   {
    "duration": 27,
    "start_time": "2023-06-30T09:17:28.288Z"
   },
   {
    "duration": 26,
    "start_time": "2023-06-30T09:17:30.082Z"
   },
   {
    "duration": 7,
    "start_time": "2023-06-30T09:17:32.332Z"
   },
   {
    "duration": 22,
    "start_time": "2023-06-30T09:17:33.275Z"
   },
   {
    "duration": 7,
    "start_time": "2023-06-30T09:17:34.283Z"
   },
   {
    "duration": 503,
    "start_time": "2023-06-30T09:17:36.690Z"
   },
   {
    "duration": 912,
    "start_time": "2023-06-30T09:17:47.364Z"
   },
   {
    "duration": 14,
    "start_time": "2023-06-30T09:17:49.785Z"
   },
   {
    "duration": 130,
    "start_time": "2023-06-30T09:21:00.190Z"
   },
   {
    "duration": 7,
    "start_time": "2023-06-30T09:21:39.145Z"
   },
   {
    "duration": 7,
    "start_time": "2023-06-30T09:25:23.792Z"
   },
   {
    "duration": 1060,
    "start_time": "2023-06-30T09:32:01.757Z"
   },
   {
    "duration": 948,
    "start_time": "2023-06-30T09:32:40.303Z"
   },
   {
    "duration": 7,
    "start_time": "2023-06-30T09:33:39.156Z"
   },
   {
    "duration": 133,
    "start_time": "2023-06-30T09:41:17.893Z"
   },
   {
    "duration": 118,
    "start_time": "2023-06-30T09:41:31.217Z"
   },
   {
    "duration": 116,
    "start_time": "2023-06-30T09:41:47.903Z"
   },
   {
    "duration": 5,
    "start_time": "2023-06-30T09:42:02.419Z"
   },
   {
    "duration": 162,
    "start_time": "2023-06-30T09:42:53.925Z"
   },
   {
    "duration": 6,
    "start_time": "2023-06-30T09:43:15.208Z"
   },
   {
    "duration": 935,
    "start_time": "2023-06-30T09:43:46.826Z"
   },
   {
    "duration": 12,
    "start_time": "2023-06-30T09:44:11.433Z"
   },
   {
    "duration": 1798,
    "start_time": "2023-06-30T14:51:14.001Z"
   },
   {
    "duration": 140,
    "start_time": "2023-06-30T14:51:15.803Z"
   },
   {
    "duration": 18,
    "start_time": "2023-06-30T14:51:15.945Z"
   },
   {
    "duration": 188,
    "start_time": "2023-06-30T14:51:15.966Z"
   },
   {
    "duration": 17,
    "start_time": "2023-06-30T14:51:16.157Z"
   },
   {
    "duration": 67,
    "start_time": "2023-06-30T14:51:16.177Z"
   },
   {
    "duration": 9,
    "start_time": "2023-06-30T14:51:16.246Z"
   },
   {
    "duration": 5,
    "start_time": "2023-06-30T14:51:16.258Z"
   },
   {
    "duration": 7,
    "start_time": "2023-06-30T14:51:16.265Z"
   },
   {
    "duration": 23,
    "start_time": "2023-06-30T14:51:16.276Z"
   },
   {
    "duration": 12,
    "start_time": "2023-06-30T14:51:16.302Z"
   },
   {
    "duration": 14,
    "start_time": "2023-06-30T14:51:16.316Z"
   },
   {
    "duration": 24,
    "start_time": "2023-06-30T14:51:16.332Z"
   },
   {
    "duration": 22,
    "start_time": "2023-06-30T14:51:16.358Z"
   },
   {
    "duration": 8,
    "start_time": "2023-06-30T14:51:16.387Z"
   },
   {
    "duration": 8,
    "start_time": "2023-06-30T14:51:16.397Z"
   },
   {
    "duration": 8,
    "start_time": "2023-06-30T14:51:16.408Z"
   },
   {
    "duration": 211,
    "start_time": "2023-06-30T14:51:16.418Z"
   },
   {
    "duration": 163,
    "start_time": "2023-06-30T14:51:16.631Z"
   },
   {
    "duration": 6,
    "start_time": "2023-06-30T14:51:16.796Z"
   },
   {
    "duration": 6,
    "start_time": "2023-06-30T14:51:16.804Z"
   },
   {
    "duration": 8,
    "start_time": "2023-06-30T14:51:16.812Z"
   },
   {
    "duration": 13,
    "start_time": "2023-06-30T14:51:16.821Z"
   },
   {
    "duration": 182,
    "start_time": "2023-06-30T14:51:16.835Z"
   },
   {
    "duration": 12,
    "start_time": "2023-06-30T14:51:17.020Z"
   },
   {
    "duration": 14,
    "start_time": "2023-06-30T14:51:17.034Z"
   },
   {
    "duration": 262,
    "start_time": "2023-06-30T14:51:17.049Z"
   },
   {
    "duration": 248,
    "start_time": "2023-06-30T14:51:17.316Z"
   },
   {
    "duration": 27,
    "start_time": "2023-06-30T14:51:17.566Z"
   },
   {
    "duration": 37,
    "start_time": "2023-06-30T14:51:17.595Z"
   },
   {
    "duration": 9,
    "start_time": "2023-06-30T14:51:17.635Z"
   },
   {
    "duration": 52,
    "start_time": "2023-06-30T14:51:17.646Z"
   },
   {
    "duration": 10,
    "start_time": "2023-06-30T14:51:17.700Z"
   },
   {
    "duration": 241,
    "start_time": "2023-06-30T14:51:17.712Z"
   },
   {
    "duration": 953,
    "start_time": "2023-06-30T14:51:17.955Z"
   },
   {
    "duration": 22,
    "start_time": "2023-06-30T14:51:18.910Z"
   },
   {
    "duration": 206,
    "start_time": "2023-06-30T14:51:18.933Z"
   },
   {
    "duration": 10,
    "start_time": "2023-06-30T14:51:19.142Z"
   },
   {
    "duration": 10,
    "start_time": "2023-06-30T14:51:19.155Z"
   },
   {
    "duration": 15,
    "start_time": "2023-06-30T14:51:19.167Z"
   },
   {
    "duration": 120,
    "start_time": "2023-06-30T14:51:19.183Z"
   },
   {
    "duration": 4,
    "start_time": "2023-06-30T14:51:33.304Z"
   },
   {
    "duration": 222,
    "start_time": "2023-06-30T14:51:35.363Z"
   },
   {
    "duration": 5,
    "start_time": "2023-06-30T14:51:35.797Z"
   },
   {
    "duration": 6,
    "start_time": "2023-06-30T14:51:38.011Z"
   },
   {
    "duration": 10,
    "start_time": "2023-06-30T14:51:40.915Z"
   },
   {
    "duration": 9,
    "start_time": "2023-06-30T14:51:43.643Z"
   },
   {
    "duration": 92,
    "start_time": "2023-06-30T14:55:51.432Z"
   },
   {
    "duration": 102,
    "start_time": "2023-06-30T14:59:56.569Z"
   },
   {
    "duration": 171,
    "start_time": "2023-06-30T15:00:30.102Z"
   },
   {
    "duration": 137,
    "start_time": "2023-06-30T15:01:38.644Z"
   },
   {
    "duration": 138,
    "start_time": "2023-06-30T15:01:45.265Z"
   },
   {
    "duration": 4,
    "start_time": "2023-06-30T15:02:03.749Z"
   },
   {
    "duration": 156,
    "start_time": "2023-06-30T15:02:05.715Z"
   },
   {
    "duration": 5,
    "start_time": "2023-06-30T15:02:37.608Z"
   },
   {
    "duration": 132,
    "start_time": "2023-06-30T15:02:38.865Z"
   },
   {
    "duration": 6,
    "start_time": "2023-06-30T15:08:04.484Z"
   },
   {
    "duration": 143,
    "start_time": "2023-06-30T15:08:05.101Z"
   },
   {
    "duration": 125,
    "start_time": "2023-06-30T15:08:05.326Z"
   },
   {
    "duration": 6,
    "start_time": "2023-06-30T15:14:00.840Z"
   },
   {
    "duration": 8,
    "start_time": "2023-06-30T15:29:13.215Z"
   },
   {
    "duration": 10,
    "start_time": "2023-06-30T15:29:34.239Z"
   },
   {
    "duration": 6,
    "start_time": "2023-06-30T15:31:22.609Z"
   },
   {
    "duration": 184,
    "start_time": "2023-06-30T15:35:48.211Z"
   },
   {
    "duration": 237,
    "start_time": "2023-06-30T15:37:06.888Z"
   },
   {
    "duration": 191,
    "start_time": "2023-06-30T15:37:16.234Z"
   },
   {
    "duration": 199,
    "start_time": "2023-06-30T15:37:20.946Z"
   },
   {
    "duration": 294,
    "start_time": "2023-06-30T15:38:01.712Z"
   },
   {
    "duration": 214,
    "start_time": "2023-06-30T15:39:14.314Z"
   },
   {
    "duration": 6,
    "start_time": "2023-06-30T15:50:21.437Z"
   },
   {
    "duration": 2,
    "start_time": "2023-06-30T16:37:27.405Z"
   },
   {
    "duration": 112,
    "start_time": "2023-06-30T16:37:27.412Z"
   },
   {
    "duration": 9,
    "start_time": "2023-06-30T16:37:27.526Z"
   },
   {
    "duration": 178,
    "start_time": "2023-06-30T16:37:27.537Z"
   },
   {
    "duration": 12,
    "start_time": "2023-06-30T16:37:27.717Z"
   },
   {
    "duration": 85,
    "start_time": "2023-06-30T16:37:27.731Z"
   },
   {
    "duration": 7,
    "start_time": "2023-06-30T16:37:27.817Z"
   },
   {
    "duration": 23,
    "start_time": "2023-06-30T16:37:27.825Z"
   },
   {
    "duration": 34,
    "start_time": "2023-06-30T16:37:27.849Z"
   },
   {
    "duration": 50,
    "start_time": "2023-06-30T16:37:27.884Z"
   },
   {
    "duration": 10,
    "start_time": "2023-06-30T16:37:27.937Z"
   },
   {
    "duration": 28,
    "start_time": "2023-06-30T16:37:27.949Z"
   },
   {
    "duration": 16,
    "start_time": "2023-06-30T16:37:27.983Z"
   },
   {
    "duration": 26,
    "start_time": "2023-06-30T16:37:28.000Z"
   },
   {
    "duration": 10,
    "start_time": "2023-06-30T16:37:28.027Z"
   },
   {
    "duration": 19,
    "start_time": "2023-06-30T16:37:28.038Z"
   },
   {
    "duration": 26,
    "start_time": "2023-06-30T16:37:28.059Z"
   },
   {
    "duration": 13,
    "start_time": "2023-06-30T16:37:28.086Z"
   },
   {
    "duration": 140,
    "start_time": "2023-06-30T16:37:28.101Z"
   },
   {
    "duration": 6,
    "start_time": "2023-06-30T16:37:28.242Z"
   },
   {
    "duration": 140,
    "start_time": "2023-06-30T16:37:28.250Z"
   },
   {
    "duration": 5,
    "start_time": "2023-06-30T16:37:28.392Z"
   },
   {
    "duration": 10,
    "start_time": "2023-06-30T16:37:28.399Z"
   },
   {
    "duration": 22,
    "start_time": "2023-06-30T16:37:28.411Z"
   },
   {
    "duration": 38,
    "start_time": "2023-06-30T16:37:28.434Z"
   },
   {
    "duration": 126,
    "start_time": "2023-06-30T16:37:28.474Z"
   },
   {
    "duration": 8,
    "start_time": "2023-06-30T16:37:28.601Z"
   },
   {
    "duration": 19,
    "start_time": "2023-06-30T16:37:28.611Z"
   },
   {
    "duration": 207,
    "start_time": "2023-06-30T16:37:28.634Z"
   },
   {
    "duration": 7,
    "start_time": "2023-06-30T16:37:28.842Z"
   },
   {
    "duration": 334,
    "start_time": "2023-06-30T16:37:28.851Z"
   },
   {
    "duration": 19,
    "start_time": "2023-06-30T16:37:29.186Z"
   },
   {
    "duration": 21,
    "start_time": "2023-06-30T16:37:29.209Z"
   },
   {
    "duration": 6,
    "start_time": "2023-06-30T16:37:29.232Z"
   },
   {
    "duration": 50,
    "start_time": "2023-06-30T16:37:29.240Z"
   },
   {
    "duration": 6,
    "start_time": "2023-06-30T16:37:29.292Z"
   },
   {
    "duration": 238,
    "start_time": "2023-06-30T16:37:29.299Z"
   },
   {
    "duration": 201,
    "start_time": "2023-06-30T16:37:29.539Z"
   },
   {
    "duration": 305,
    "start_time": "2023-06-30T16:37:29.741Z"
   },
   {
    "duration": 238,
    "start_time": "2023-06-30T16:37:30.048Z"
   },
   {
    "duration": 921,
    "start_time": "2023-06-30T16:37:30.287Z"
   },
   {
    "duration": 3,
    "start_time": "2023-06-30T16:37:31.210Z"
   },
   {
    "duration": 172,
    "start_time": "2023-06-30T16:37:31.215Z"
   },
   {
    "duration": 6,
    "start_time": "2023-06-30T16:37:31.389Z"
   },
   {
    "duration": 28,
    "start_time": "2023-06-30T16:37:31.397Z"
   },
   {
    "duration": 37,
    "start_time": "2023-06-30T16:37:31.427Z"
   },
   {
    "duration": 54,
    "start_time": "2023-06-30T16:37:31.465Z"
   },
   {
    "duration": 1090,
    "start_time": "2023-06-30T23:36:34.672Z"
   },
   {
    "duration": 37,
    "start_time": "2023-06-30T23:36:35.764Z"
   },
   {
    "duration": 11,
    "start_time": "2023-06-30T23:36:35.802Z"
   },
   {
    "duration": 56,
    "start_time": "2023-06-30T23:36:35.814Z"
   },
   {
    "duration": 11,
    "start_time": "2023-06-30T23:36:35.873Z"
   },
   {
    "duration": 19,
    "start_time": "2023-06-30T23:36:35.886Z"
   },
   {
    "duration": 7,
    "start_time": "2023-06-30T23:36:35.906Z"
   },
   {
    "duration": 12,
    "start_time": "2023-06-30T23:36:35.915Z"
   },
   {
    "duration": 7,
    "start_time": "2023-06-30T23:36:35.928Z"
   },
   {
    "duration": 37,
    "start_time": "2023-06-30T23:36:35.936Z"
   },
   {
    "duration": 7,
    "start_time": "2023-06-30T23:36:35.975Z"
   },
   {
    "duration": 11,
    "start_time": "2023-06-30T23:36:35.983Z"
   },
   {
    "duration": 7,
    "start_time": "2023-06-30T23:36:35.995Z"
   },
   {
    "duration": 7,
    "start_time": "2023-06-30T23:36:36.004Z"
   },
   {
    "duration": 5,
    "start_time": "2023-06-30T23:36:36.013Z"
   },
   {
    "duration": 48,
    "start_time": "2023-06-30T23:36:36.019Z"
   },
   {
    "duration": 9,
    "start_time": "2023-06-30T23:36:36.068Z"
   },
   {
    "duration": 8,
    "start_time": "2023-06-30T23:36:36.078Z"
   },
   {
    "duration": 144,
    "start_time": "2023-06-30T23:36:36.088Z"
   },
   {
    "duration": 6,
    "start_time": "2023-06-30T23:36:36.233Z"
   },
   {
    "duration": 124,
    "start_time": "2023-06-30T23:36:36.240Z"
   },
   {
    "duration": 6,
    "start_time": "2023-06-30T23:36:36.366Z"
   },
   {
    "duration": 4,
    "start_time": "2023-06-30T23:36:36.374Z"
   },
   {
    "duration": 7,
    "start_time": "2023-06-30T23:36:36.380Z"
   },
   {
    "duration": 16,
    "start_time": "2023-06-30T23:36:36.389Z"
   },
   {
    "duration": 128,
    "start_time": "2023-06-30T23:36:36.406Z"
   },
   {
    "duration": 8,
    "start_time": "2023-06-30T23:36:36.536Z"
   },
   {
    "duration": 9,
    "start_time": "2023-06-30T23:36:36.545Z"
   },
   {
    "duration": 207,
    "start_time": "2023-06-30T23:36:36.555Z"
   },
   {
    "duration": 6,
    "start_time": "2023-06-30T23:36:36.764Z"
   },
   {
    "duration": 195,
    "start_time": "2023-06-30T23:36:36.772Z"
   },
   {
    "duration": 17,
    "start_time": "2023-06-30T23:36:36.968Z"
   },
   {
    "duration": 21,
    "start_time": "2023-06-30T23:36:36.986Z"
   },
   {
    "duration": 5,
    "start_time": "2023-06-30T23:36:37.009Z"
   },
   {
    "duration": 76,
    "start_time": "2023-06-30T23:36:37.015Z"
   },
   {
    "duration": 6,
    "start_time": "2023-06-30T23:36:37.092Z"
   },
   {
    "duration": 172,
    "start_time": "2023-06-30T23:36:37.100Z"
   },
   {
    "duration": 236,
    "start_time": "2023-06-30T23:36:37.273Z"
   },
   {
    "duration": 193,
    "start_time": "2023-06-30T23:36:37.511Z"
   },
   {
    "duration": 198,
    "start_time": "2023-06-30T23:36:37.705Z"
   },
   {
    "duration": 729,
    "start_time": "2023-06-30T23:36:37.906Z"
   },
   {
    "duration": 3,
    "start_time": "2023-06-30T23:36:38.637Z"
   },
   {
    "duration": 143,
    "start_time": "2023-06-30T23:36:38.642Z"
   },
   {
    "duration": 6,
    "start_time": "2023-06-30T23:36:38.787Z"
   },
   {
    "duration": 6,
    "start_time": "2023-06-30T23:36:38.795Z"
   },
   {
    "duration": 7,
    "start_time": "2023-06-30T23:36:38.803Z"
   },
   {
    "duration": 27,
    "start_time": "2023-06-30T23:36:38.811Z"
   },
   {
    "duration": 5,
    "start_time": "2023-06-30T23:40:39.137Z"
   },
   {
    "duration": 8,
    "start_time": "2023-06-30T23:40:50.933Z"
   },
   {
    "duration": 47,
    "start_time": "2023-07-01T13:12:01.983Z"
   },
   {
    "duration": 1196,
    "start_time": "2023-07-01T13:12:07.323Z"
   },
   {
    "duration": 124,
    "start_time": "2023-07-01T13:12:08.521Z"
   },
   {
    "duration": 10,
    "start_time": "2023-07-01T13:12:08.647Z"
   },
   {
    "duration": 177,
    "start_time": "2023-07-01T13:12:08.659Z"
   },
   {
    "duration": 11,
    "start_time": "2023-07-01T13:12:08.838Z"
   },
   {
    "duration": 86,
    "start_time": "2023-07-01T13:12:08.851Z"
   },
   {
    "duration": 8,
    "start_time": "2023-07-01T13:12:08.939Z"
   },
   {
    "duration": 6,
    "start_time": "2023-07-01T13:12:08.949Z"
   },
   {
    "duration": 7,
    "start_time": "2023-07-01T13:12:08.957Z"
   },
   {
    "duration": 17,
    "start_time": "2023-07-01T13:12:08.967Z"
   },
   {
    "duration": 9,
    "start_time": "2023-07-01T13:12:08.985Z"
   },
   {
    "duration": 7,
    "start_time": "2023-07-01T13:12:08.995Z"
   },
   {
    "duration": 19,
    "start_time": "2023-07-01T13:12:09.004Z"
   },
   {
    "duration": 6,
    "start_time": "2023-07-01T13:12:09.024Z"
   },
   {
    "duration": 5,
    "start_time": "2023-07-01T13:12:09.032Z"
   },
   {
    "duration": 16,
    "start_time": "2023-07-01T13:12:09.038Z"
   },
   {
    "duration": 21,
    "start_time": "2023-07-01T13:12:09.067Z"
   },
   {
    "duration": 5,
    "start_time": "2023-07-01T13:12:09.090Z"
   },
   {
    "duration": 146,
    "start_time": "2023-07-01T13:12:09.097Z"
   },
   {
    "duration": 6,
    "start_time": "2023-07-01T13:12:09.244Z"
   },
   {
    "duration": 132,
    "start_time": "2023-07-01T13:12:09.252Z"
   },
   {
    "duration": 5,
    "start_time": "2023-07-01T13:12:09.386Z"
   },
   {
    "duration": 4,
    "start_time": "2023-07-01T13:12:09.392Z"
   },
   {
    "duration": 5,
    "start_time": "2023-07-01T13:12:09.398Z"
   },
   {
    "duration": 10,
    "start_time": "2023-07-01T13:12:09.404Z"
   },
   {
    "duration": 120,
    "start_time": "2023-07-01T13:12:09.416Z"
   },
   {
    "duration": 8,
    "start_time": "2023-07-01T13:12:09.538Z"
   },
   {
    "duration": 30,
    "start_time": "2023-07-01T13:12:09.549Z"
   },
   {
    "duration": 207,
    "start_time": "2023-07-01T13:12:09.585Z"
   },
   {
    "duration": 8,
    "start_time": "2023-07-01T13:12:09.794Z"
   },
   {
    "duration": 195,
    "start_time": "2023-07-01T13:12:09.804Z"
   },
   {
    "duration": 16,
    "start_time": "2023-07-01T13:12:10.001Z"
   },
   {
    "duration": 12,
    "start_time": "2023-07-01T13:12:10.019Z"
   },
   {
    "duration": 48,
    "start_time": "2023-07-01T13:12:10.032Z"
   },
   {
    "duration": 6,
    "start_time": "2023-07-01T13:12:10.083Z"
   },
   {
    "duration": 19,
    "start_time": "2023-07-01T13:12:10.091Z"
   },
   {
    "duration": 6,
    "start_time": "2023-07-01T13:12:10.111Z"
   },
   {
    "duration": 192,
    "start_time": "2023-07-01T13:12:10.119Z"
   },
   {
    "duration": 247,
    "start_time": "2023-07-01T13:12:10.313Z"
   },
   {
    "duration": 200,
    "start_time": "2023-07-01T13:12:10.562Z"
   },
   {
    "duration": 199,
    "start_time": "2023-07-01T13:12:10.763Z"
   },
   {
    "duration": 884,
    "start_time": "2023-07-01T13:12:10.972Z"
   },
   {
    "duration": 3,
    "start_time": "2023-07-01T13:12:11.858Z"
   },
   {
    "duration": 137,
    "start_time": "2023-07-01T13:12:11.870Z"
   },
   {
    "duration": 5,
    "start_time": "2023-07-01T13:12:12.009Z"
   },
   {
    "duration": 5,
    "start_time": "2023-07-01T13:12:12.016Z"
   },
   {
    "duration": 6,
    "start_time": "2023-07-01T13:12:12.022Z"
   },
   {
    "duration": 7,
    "start_time": "2023-07-01T13:12:12.029Z"
   },
   {
    "duration": 156,
    "start_time": "2023-07-01T13:15:00.680Z"
   },
   {
    "duration": 158,
    "start_time": "2023-07-01T13:16:06.577Z"
   },
   {
    "duration": 152,
    "start_time": "2023-07-01T13:16:55.238Z"
   },
   {
    "duration": 165,
    "start_time": "2023-07-01T13:23:13.349Z"
   },
   {
    "duration": 117,
    "start_time": "2023-07-01T13:24:21.193Z"
   },
   {
    "duration": 6,
    "start_time": "2023-07-01T13:26:48.016Z"
   },
   {
    "duration": 5,
    "start_time": "2023-07-01T13:35:21.547Z"
   },
   {
    "duration": 146,
    "start_time": "2023-07-01T13:37:35.563Z"
   },
   {
    "duration": 132,
    "start_time": "2023-07-01T13:39:10.285Z"
   },
   {
    "duration": 12,
    "start_time": "2023-07-01T13:40:07.405Z"
   },
   {
    "duration": 13,
    "start_time": "2023-07-01T13:40:47.364Z"
   },
   {
    "duration": 3,
    "start_time": "2023-07-01T13:42:03.459Z"
   },
   {
    "duration": 43,
    "start_time": "2023-07-01T13:42:03.466Z"
   },
   {
    "duration": 9,
    "start_time": "2023-07-01T13:42:03.511Z"
   },
   {
    "duration": 38,
    "start_time": "2023-07-01T13:42:03.522Z"
   },
   {
    "duration": 11,
    "start_time": "2023-07-01T13:42:03.562Z"
   },
   {
    "duration": 22,
    "start_time": "2023-07-01T13:42:03.574Z"
   },
   {
    "duration": 6,
    "start_time": "2023-07-01T13:42:03.597Z"
   },
   {
    "duration": 37,
    "start_time": "2023-07-01T13:42:03.604Z"
   },
   {
    "duration": 19,
    "start_time": "2023-07-01T13:42:03.643Z"
   },
   {
    "duration": 9,
    "start_time": "2023-07-01T13:42:03.663Z"
   },
   {
    "duration": 8,
    "start_time": "2023-07-01T13:42:03.675Z"
   },
   {
    "duration": 112,
    "start_time": "2023-07-01T13:42:03.685Z"
   },
   {
    "duration": 8,
    "start_time": "2023-07-01T13:42:03.799Z"
   },
   {
    "duration": 5,
    "start_time": "2023-07-01T13:42:03.809Z"
   },
   {
    "duration": 5,
    "start_time": "2023-07-01T13:42:03.816Z"
   },
   {
    "duration": 8,
    "start_time": "2023-07-01T13:42:03.823Z"
   },
   {
    "duration": 7,
    "start_time": "2023-07-01T13:42:03.832Z"
   },
   {
    "duration": 27,
    "start_time": "2023-07-01T13:42:03.841Z"
   },
   {
    "duration": 172,
    "start_time": "2023-07-01T13:42:03.870Z"
   },
   {
    "duration": 7,
    "start_time": "2023-07-01T13:42:04.044Z"
   },
   {
    "duration": 159,
    "start_time": "2023-07-01T13:42:04.053Z"
   },
   {
    "duration": 5,
    "start_time": "2023-07-01T13:42:04.213Z"
   },
   {
    "duration": 8,
    "start_time": "2023-07-01T13:42:04.219Z"
   },
   {
    "duration": 8,
    "start_time": "2023-07-01T13:42:04.229Z"
   },
   {
    "duration": 11,
    "start_time": "2023-07-01T13:42:04.238Z"
   },
   {
    "duration": 140,
    "start_time": "2023-07-01T13:42:04.250Z"
   },
   {
    "duration": 9,
    "start_time": "2023-07-01T13:42:04.392Z"
   },
   {
    "duration": 8,
    "start_time": "2023-07-01T13:42:04.403Z"
   },
   {
    "duration": 219,
    "start_time": "2023-07-01T13:42:04.413Z"
   },
   {
    "duration": 5,
    "start_time": "2023-07-01T13:42:04.634Z"
   },
   {
    "duration": 183,
    "start_time": "2023-07-01T13:42:05.197Z"
   },
   {
    "duration": 17,
    "start_time": "2023-07-01T13:42:05.381Z"
   },
   {
    "duration": 23,
    "start_time": "2023-07-01T13:42:05.400Z"
   },
   {
    "duration": 28,
    "start_time": "2023-07-01T13:42:05.425Z"
   },
   {
    "duration": 6,
    "start_time": "2023-07-01T13:42:05.467Z"
   },
   {
    "duration": 21,
    "start_time": "2023-07-01T13:42:05.475Z"
   },
   {
    "duration": 6,
    "start_time": "2023-07-01T13:42:05.498Z"
   },
   {
    "duration": 190,
    "start_time": "2023-07-01T13:42:05.505Z"
   },
   {
    "duration": 186,
    "start_time": "2023-07-01T13:42:05.697Z"
   },
   {
    "duration": 193,
    "start_time": "2023-07-01T13:42:05.885Z"
   },
   {
    "duration": 179,
    "start_time": "2023-07-01T13:42:06.079Z"
   },
   {
    "duration": 832,
    "start_time": "2023-07-01T13:42:06.260Z"
   },
   {
    "duration": 3,
    "start_time": "2023-07-01T13:42:07.094Z"
   },
   {
    "duration": 153,
    "start_time": "2023-07-01T13:42:07.100Z"
   },
   {
    "duration": 14,
    "start_time": "2023-07-01T13:42:07.255Z"
   },
   {
    "duration": 6,
    "start_time": "2023-07-01T13:42:07.271Z"
   },
   {
    "duration": 21,
    "start_time": "2023-07-01T13:42:07.279Z"
   },
   {
    "duration": 23,
    "start_time": "2023-07-01T13:42:07.303Z"
   },
   {
    "duration": 947,
    "start_time": "2023-07-01T14:59:20.862Z"
   },
   {
    "duration": 36,
    "start_time": "2023-07-01T14:59:21.811Z"
   },
   {
    "duration": 9,
    "start_time": "2023-07-01T14:59:21.848Z"
   },
   {
    "duration": 39,
    "start_time": "2023-07-01T14:59:21.860Z"
   },
   {
    "duration": 8,
    "start_time": "2023-07-01T14:59:21.900Z"
   },
   {
    "duration": 17,
    "start_time": "2023-07-01T14:59:21.910Z"
   },
   {
    "duration": 6,
    "start_time": "2023-07-01T14:59:21.928Z"
   },
   {
    "duration": 4,
    "start_time": "2023-07-01T14:59:21.935Z"
   },
   {
    "duration": 6,
    "start_time": "2023-07-01T14:59:21.940Z"
   },
   {
    "duration": 11,
    "start_time": "2023-07-01T14:59:21.948Z"
   },
   {
    "duration": 7,
    "start_time": "2023-07-01T14:59:21.960Z"
   },
   {
    "duration": 6,
    "start_time": "2023-07-01T14:59:21.968Z"
   },
   {
    "duration": 25,
    "start_time": "2023-07-01T14:59:21.975Z"
   },
   {
    "duration": 4,
    "start_time": "2023-07-01T14:59:22.001Z"
   },
   {
    "duration": 3,
    "start_time": "2023-07-01T14:59:22.007Z"
   },
   {
    "duration": 5,
    "start_time": "2023-07-01T14:59:22.012Z"
   },
   {
    "duration": 7,
    "start_time": "2023-07-01T14:59:22.018Z"
   },
   {
    "duration": 6,
    "start_time": "2023-07-01T14:59:22.026Z"
   },
   {
    "duration": 149,
    "start_time": "2023-07-01T14:59:22.033Z"
   },
   {
    "duration": 6,
    "start_time": "2023-07-01T14:59:22.183Z"
   },
   {
    "duration": 113,
    "start_time": "2023-07-01T14:59:22.199Z"
   },
   {
    "duration": 6,
    "start_time": "2023-07-01T14:59:22.313Z"
   },
   {
    "duration": 3,
    "start_time": "2023-07-01T14:59:22.320Z"
   },
   {
    "duration": 7,
    "start_time": "2023-07-01T14:59:22.325Z"
   },
   {
    "duration": 10,
    "start_time": "2023-07-01T14:59:22.333Z"
   },
   {
    "duration": 118,
    "start_time": "2023-07-01T14:59:22.344Z"
   },
   {
    "duration": 7,
    "start_time": "2023-07-01T14:59:22.463Z"
   },
   {
    "duration": 6,
    "start_time": "2023-07-01T14:59:22.473Z"
   },
   {
    "duration": 170,
    "start_time": "2023-07-01T14:59:22.480Z"
   },
   {
    "duration": 5,
    "start_time": "2023-07-01T14:59:22.651Z"
   },
   {
    "duration": 175,
    "start_time": "2023-07-01T14:59:22.657Z"
   },
   {
    "duration": 15,
    "start_time": "2023-07-01T14:59:22.833Z"
   },
   {
    "duration": 11,
    "start_time": "2023-07-01T14:59:22.849Z"
   },
   {
    "duration": 20,
    "start_time": "2023-07-01T14:59:22.861Z"
   },
   {
    "duration": 5,
    "start_time": "2023-07-01T14:59:22.899Z"
   },
   {
    "duration": 67,
    "start_time": "2023-07-01T14:59:22.906Z"
   },
   {
    "duration": 46,
    "start_time": "2023-07-01T14:59:22.975Z"
   },
   {
    "duration": 216,
    "start_time": "2023-07-01T14:59:23.022Z"
   },
   {
    "duration": 194,
    "start_time": "2023-07-01T14:59:23.239Z"
   },
   {
    "duration": 168,
    "start_time": "2023-07-01T14:59:23.434Z"
   },
   {
    "duration": 165,
    "start_time": "2023-07-01T14:59:23.604Z"
   },
   {
    "duration": 797,
    "start_time": "2023-07-01T14:59:23.771Z"
   },
   {
    "duration": 2,
    "start_time": "2023-07-01T14:59:24.570Z"
   },
   {
    "duration": 161,
    "start_time": "2023-07-01T14:59:24.574Z"
   },
   {
    "duration": 6,
    "start_time": "2023-07-01T14:59:24.736Z"
   },
   {
    "duration": 33,
    "start_time": "2023-07-01T14:59:24.744Z"
   },
   {
    "duration": 18,
    "start_time": "2023-07-01T14:59:24.779Z"
   },
   {
    "duration": 9,
    "start_time": "2023-07-01T14:59:24.798Z"
   },
   {
    "duration": 1008,
    "start_time": "2023-07-01T15:07:56.107Z"
   },
   {
    "duration": 37,
    "start_time": "2023-07-01T15:07:57.117Z"
   },
   {
    "duration": 10,
    "start_time": "2023-07-01T15:07:57.155Z"
   },
   {
    "duration": 41,
    "start_time": "2023-07-01T15:07:57.166Z"
   },
   {
    "duration": 10,
    "start_time": "2023-07-01T15:07:57.210Z"
   },
   {
    "duration": 18,
    "start_time": "2023-07-01T15:07:57.222Z"
   },
   {
    "duration": 6,
    "start_time": "2023-07-01T15:07:57.241Z"
   },
   {
    "duration": 5,
    "start_time": "2023-07-01T15:07:57.248Z"
   },
   {
    "duration": 5,
    "start_time": "2023-07-01T15:07:57.254Z"
   },
   {
    "duration": 10,
    "start_time": "2023-07-01T15:07:57.260Z"
   },
   {
    "duration": 6,
    "start_time": "2023-07-01T15:07:57.272Z"
   },
   {
    "duration": 23,
    "start_time": "2023-07-01T15:07:57.279Z"
   },
   {
    "duration": 7,
    "start_time": "2023-07-01T15:07:57.303Z"
   },
   {
    "duration": 15,
    "start_time": "2023-07-01T15:07:57.313Z"
   },
   {
    "duration": 28,
    "start_time": "2023-07-01T15:07:57.329Z"
   },
   {
    "duration": 10,
    "start_time": "2023-07-01T15:07:57.358Z"
   },
   {
    "duration": 8,
    "start_time": "2023-07-01T15:07:57.369Z"
   },
   {
    "duration": 3,
    "start_time": "2023-07-01T15:07:57.379Z"
   },
   {
    "duration": 146,
    "start_time": "2023-07-01T15:07:57.384Z"
   },
   {
    "duration": 5,
    "start_time": "2023-07-01T15:07:57.532Z"
   },
   {
    "duration": 120,
    "start_time": "2023-07-01T15:07:57.539Z"
   },
   {
    "duration": 6,
    "start_time": "2023-07-01T15:07:57.661Z"
   },
   {
    "duration": 6,
    "start_time": "2023-07-01T15:07:57.668Z"
   },
   {
    "duration": 6,
    "start_time": "2023-07-01T15:07:57.675Z"
   },
   {
    "duration": 20,
    "start_time": "2023-07-01T15:07:57.683Z"
   },
   {
    "duration": 119,
    "start_time": "2023-07-01T15:07:57.704Z"
   },
   {
    "duration": 7,
    "start_time": "2023-07-01T15:07:57.825Z"
   },
   {
    "duration": 8,
    "start_time": "2023-07-01T15:07:57.833Z"
   },
   {
    "duration": 181,
    "start_time": "2023-07-01T15:07:57.842Z"
   },
   {
    "duration": 5,
    "start_time": "2023-07-01T15:07:58.025Z"
   },
   {
    "duration": 200,
    "start_time": "2023-07-01T15:07:58.032Z"
   },
   {
    "duration": 15,
    "start_time": "2023-07-01T15:07:58.233Z"
   },
   {
    "duration": 11,
    "start_time": "2023-07-01T15:07:58.249Z"
   },
   {
    "duration": 19,
    "start_time": "2023-07-01T15:07:58.262Z"
   },
   {
    "duration": 8,
    "start_time": "2023-07-01T15:07:58.299Z"
   },
   {
    "duration": 25,
    "start_time": "2023-07-01T15:07:58.309Z"
   },
   {
    "duration": 7,
    "start_time": "2023-07-01T15:07:58.336Z"
   },
   {
    "duration": 177,
    "start_time": "2023-07-01T15:07:58.345Z"
   },
   {
    "duration": 209,
    "start_time": "2023-07-01T15:07:58.524Z"
   },
   {
    "duration": 173,
    "start_time": "2023-07-01T15:07:58.734Z"
   },
   {
    "duration": 181,
    "start_time": "2023-07-01T15:07:58.911Z"
   },
   {
    "duration": 1717,
    "start_time": "2023-07-01T15:07:59.094Z"
   },
   {
    "duration": 3,
    "start_time": "2023-07-01T15:08:00.813Z"
   },
   {
    "duration": 208,
    "start_time": "2023-07-01T15:08:00.818Z"
   },
   {
    "duration": 6,
    "start_time": "2023-07-01T15:08:01.028Z"
   },
   {
    "duration": 42,
    "start_time": "2023-07-01T15:08:01.035Z"
   },
   {
    "duration": 34,
    "start_time": "2023-07-01T15:08:01.078Z"
   },
   {
    "duration": 66,
    "start_time": "2023-07-01T15:08:01.114Z"
   },
   {
    "duration": 5,
    "start_time": "2023-07-01T15:10:17.175Z"
   },
   {
    "duration": 4,
    "start_time": "2023-07-01T15:10:23.631Z"
   },
   {
    "duration": 90,
    "start_time": "2023-07-01T15:31:11.578Z"
   },
   {
    "duration": 1798,
    "start_time": "2023-07-01T15:31:15.937Z"
   },
   {
    "duration": 106,
    "start_time": "2023-07-01T15:31:17.739Z"
   },
   {
    "duration": 29,
    "start_time": "2023-07-01T15:31:17.847Z"
   },
   {
    "duration": 113,
    "start_time": "2023-07-01T15:31:17.880Z"
   },
   {
    "duration": 18,
    "start_time": "2023-07-01T15:31:17.995Z"
   },
   {
    "duration": 80,
    "start_time": "2023-07-01T15:31:18.015Z"
   },
   {
    "duration": 12,
    "start_time": "2023-07-01T15:31:18.097Z"
   },
   {
    "duration": 19,
    "start_time": "2023-07-01T15:31:18.111Z"
   },
   {
    "duration": 9,
    "start_time": "2023-07-01T15:31:18.132Z"
   },
   {
    "duration": 50,
    "start_time": "2023-07-01T15:31:18.145Z"
   },
   {
    "duration": 10,
    "start_time": "2023-07-01T15:31:18.198Z"
   },
   {
    "duration": 10,
    "start_time": "2023-07-01T15:31:18.209Z"
   },
   {
    "duration": 11,
    "start_time": "2023-07-01T15:31:18.223Z"
   },
   {
    "duration": 12,
    "start_time": "2023-07-01T15:31:18.236Z"
   },
   {
    "duration": 33,
    "start_time": "2023-07-01T15:31:18.250Z"
   },
   {
    "duration": 24,
    "start_time": "2023-07-01T15:31:18.285Z"
   },
   {
    "duration": 53,
    "start_time": "2023-07-01T15:31:18.311Z"
   },
   {
    "duration": 71,
    "start_time": "2023-07-01T15:31:18.369Z"
   },
   {
    "duration": 292,
    "start_time": "2023-07-01T15:31:18.443Z"
   },
   {
    "duration": 15,
    "start_time": "2023-07-01T15:31:18.737Z"
   },
   {
    "duration": 268,
    "start_time": "2023-07-01T15:31:18.754Z"
   },
   {
    "duration": 9,
    "start_time": "2023-07-01T15:31:19.024Z"
   },
   {
    "duration": 18,
    "start_time": "2023-07-01T15:31:19.036Z"
   },
   {
    "duration": 44,
    "start_time": "2023-07-01T15:31:19.056Z"
   },
   {
    "duration": 16,
    "start_time": "2023-07-01T15:31:19.104Z"
   },
   {
    "duration": 226,
    "start_time": "2023-07-01T15:31:19.122Z"
   },
   {
    "duration": 27,
    "start_time": "2023-07-01T15:31:19.352Z"
   },
   {
    "duration": 18,
    "start_time": "2023-07-01T15:31:19.392Z"
   },
   {
    "duration": 320,
    "start_time": "2023-07-01T15:31:19.412Z"
   },
   {
    "duration": 24,
    "start_time": "2023-07-01T15:31:19.735Z"
   },
   {
    "duration": 371,
    "start_time": "2023-07-01T15:31:19.762Z"
   },
   {
    "duration": 42,
    "start_time": "2023-07-01T15:31:20.135Z"
   },
   {
    "duration": 35,
    "start_time": "2023-07-01T15:31:20.180Z"
   },
   {
    "duration": 71,
    "start_time": "2023-07-01T15:31:20.218Z"
   },
   {
    "duration": 9,
    "start_time": "2023-07-01T15:31:20.292Z"
   },
   {
    "duration": 33,
    "start_time": "2023-07-01T15:31:20.303Z"
   },
   {
    "duration": 16,
    "start_time": "2023-07-01T15:31:20.339Z"
   },
   {
    "duration": 358,
    "start_time": "2023-07-01T15:31:20.364Z"
   },
   {
    "duration": 465,
    "start_time": "2023-07-01T15:31:20.725Z"
   },
   {
    "duration": 369,
    "start_time": "2023-07-01T15:31:21.192Z"
   },
   {
    "duration": 353,
    "start_time": "2023-07-01T15:31:21.564Z"
   },
   {
    "duration": 1652,
    "start_time": "2023-07-01T15:31:21.920Z"
   },
   {
    "duration": 7,
    "start_time": "2023-07-01T15:31:23.581Z"
   },
   {
    "duration": 180,
    "start_time": "2023-07-01T15:31:23.590Z"
   },
   {
    "duration": 9,
    "start_time": "2023-07-01T15:31:23.773Z"
   },
   {
    "duration": 29,
    "start_time": "2023-07-01T15:31:23.784Z"
   },
   {
    "duration": 80,
    "start_time": "2023-07-01T15:31:23.815Z"
   },
   {
    "duration": 0,
    "start_time": "2023-07-01T15:31:23.898Z"
   },
   {
    "duration": 10,
    "start_time": "2023-07-01T15:31:40.944Z"
   },
   {
    "duration": 4,
    "start_time": "2023-07-01T15:36:01.174Z"
   },
   {
    "duration": 34,
    "start_time": "2023-07-01T15:36:01.273Z"
   },
   {
    "duration": 17,
    "start_time": "2023-07-01T15:36:01.309Z"
   },
   {
    "duration": 76,
    "start_time": "2023-07-01T15:36:01.328Z"
   },
   {
    "duration": 12,
    "start_time": "2023-07-01T15:36:01.405Z"
   },
   {
    "duration": 58,
    "start_time": "2023-07-01T15:36:01.420Z"
   },
   {
    "duration": 20,
    "start_time": "2023-07-01T15:36:01.480Z"
   },
   {
    "duration": 28,
    "start_time": "2023-07-01T15:36:01.502Z"
   },
   {
    "duration": 45,
    "start_time": "2023-07-01T15:36:01.532Z"
   },
   {
    "duration": 50,
    "start_time": "2023-07-01T15:36:01.579Z"
   },
   {
    "duration": 47,
    "start_time": "2023-07-01T15:36:01.631Z"
   },
   {
    "duration": 41,
    "start_time": "2023-07-01T15:36:01.679Z"
   },
   {
    "duration": 19,
    "start_time": "2023-07-01T15:36:01.721Z"
   },
   {
    "duration": 39,
    "start_time": "2023-07-01T15:36:01.742Z"
   },
   {
    "duration": 31,
    "start_time": "2023-07-01T15:36:01.785Z"
   },
   {
    "duration": 58,
    "start_time": "2023-07-01T15:36:01.819Z"
   },
   {
    "duration": 32,
    "start_time": "2023-07-01T15:36:01.879Z"
   },
   {
    "duration": 34,
    "start_time": "2023-07-01T15:36:01.913Z"
   },
   {
    "duration": 195,
    "start_time": "2023-07-01T15:36:01.949Z"
   },
   {
    "duration": 6,
    "start_time": "2023-07-01T15:36:02.151Z"
   },
   {
    "duration": 155,
    "start_time": "2023-07-01T15:36:02.158Z"
   },
   {
    "duration": 9,
    "start_time": "2023-07-01T15:36:02.315Z"
   },
   {
    "duration": 23,
    "start_time": "2023-07-01T15:36:02.327Z"
   },
   {
    "duration": 52,
    "start_time": "2023-07-01T15:36:02.351Z"
   },
   {
    "duration": 31,
    "start_time": "2023-07-01T15:36:02.405Z"
   },
   {
    "duration": 172,
    "start_time": "2023-07-01T15:36:02.438Z"
   },
   {
    "duration": 10,
    "start_time": "2023-07-01T15:36:02.612Z"
   },
   {
    "duration": 19,
    "start_time": "2023-07-01T15:36:02.624Z"
   },
   {
    "duration": 229,
    "start_time": "2023-07-01T15:36:02.657Z"
   },
   {
    "duration": 7,
    "start_time": "2023-07-01T15:36:02.887Z"
   },
   {
    "duration": 266,
    "start_time": "2023-07-01T15:36:02.896Z"
   },
   {
    "duration": 22,
    "start_time": "2023-07-01T15:36:03.164Z"
   },
   {
    "duration": 15,
    "start_time": "2023-07-01T15:36:03.188Z"
   },
   {
    "duration": 31,
    "start_time": "2023-07-01T15:36:03.205Z"
   },
   {
    "duration": 23,
    "start_time": "2023-07-01T15:36:03.238Z"
   },
   {
    "duration": 38,
    "start_time": "2023-07-01T15:36:03.263Z"
   },
   {
    "duration": 10,
    "start_time": "2023-07-01T15:36:03.303Z"
   },
   {
    "duration": 227,
    "start_time": "2023-07-01T15:36:03.315Z"
   },
   {
    "duration": 346,
    "start_time": "2023-07-01T15:36:03.544Z"
   },
   {
    "duration": 243,
    "start_time": "2023-07-01T15:36:03.892Z"
   },
   {
    "duration": 239,
    "start_time": "2023-07-01T15:36:04.138Z"
   },
   {
    "duration": 938,
    "start_time": "2023-07-01T15:36:04.378Z"
   },
   {
    "duration": 7,
    "start_time": "2023-07-01T15:36:05.318Z"
   },
   {
    "duration": 256,
    "start_time": "2023-07-01T15:36:05.327Z"
   },
   {
    "duration": 7,
    "start_time": "2023-07-01T15:36:05.585Z"
   },
   {
    "duration": 9,
    "start_time": "2023-07-01T15:36:05.594Z"
   },
   {
    "duration": 16,
    "start_time": "2023-07-01T15:36:05.605Z"
   },
   {
    "duration": 10,
    "start_time": "2023-07-01T15:36:05.624Z"
   }
  ],
  "kernelspec": {
   "display_name": "Python 3 (ipykernel)",
   "language": "python",
   "name": "python3"
  },
  "language_info": {
   "codemirror_mode": {
    "name": "ipython",
    "version": 3
   },
   "file_extension": ".py",
   "mimetype": "text/x-python",
   "name": "python",
   "nbconvert_exporter": "python",
   "pygments_lexer": "ipython3",
   "version": "3.9.5"
  },
  "toc": {
   "base_numbering": 1,
   "nav_menu": {},
   "number_sections": true,
   "sideBar": true,
   "skip_h1_title": true,
   "title_cell": "Table of Contents",
   "title_sidebar": "Contents",
   "toc_cell": false,
   "toc_position": {
    "height": "411px",
    "left": "394px",
    "top": "279.125px",
    "width": "250.594px"
   },
   "toc_section_display": true,
   "toc_window_display": true
  }
 },
 "nbformat": 4,
 "nbformat_minor": 5
}
